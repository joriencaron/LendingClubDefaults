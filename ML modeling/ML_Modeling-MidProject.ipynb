{
 "cells": [
  {
   "cell_type": "markdown",
   "id": "d87f5efe",
   "metadata": {},
   "source": [
    "# ML Modeling"
   ]
  },
  {
   "cell_type": "markdown",
   "id": "de5e7c02",
   "metadata": {},
   "source": [
    "In this 3rd and final section of the notebook I will preprocces my data, train and test multiple ML models, to identify the best one to answer the research question of this project."
   ]
  },
  {
   "cell_type": "code",
   "execution_count": 52,
   "id": "d83c6e05",
   "metadata": {},
   "outputs": [],
   "source": [
    "import pandas as pd\n",
    "import numpy as np\n",
    "import seaborn as sns\n",
    "import matplotlib.pyplot as plt\n",
    "from sklearn.metrics import classification_report\n",
    "import pymysql\n",
    "from sqlalchemy import create_engine\n",
    "import pandas as pd\n",
    "import getpass"
   ]
  },
  {
   "cell_type": "code",
   "execution_count": 53,
   "id": "2091030a",
   "metadata": {},
   "outputs": [
    {
     "name": "stdout",
     "output_type": "stream",
     "text": [
      "········\n"
     ]
    }
   ],
   "source": [
    "password = getpass.getpass()"
   ]
  },
  {
   "cell_type": "markdown",
   "id": "52e56bbe",
   "metadata": {},
   "source": [
    "# Loading the data"
   ]
  },
  {
   "cell_type": "code",
   "execution_count": 55,
   "id": "885c6994",
   "metadata": {},
   "outputs": [
    {
     "data": {
      "text/html": [
       "<div>\n",
       "<style scoped>\n",
       "    .dataframe tbody tr th:only-of-type {\n",
       "        vertical-align: middle;\n",
       "    }\n",
       "\n",
       "    .dataframe tbody tr th {\n",
       "        vertical-align: top;\n",
       "    }\n",
       "\n",
       "    .dataframe thead th {\n",
       "        text-align: right;\n",
       "    }\n",
       "</style>\n",
       "<table border=\"1\" class=\"dataframe\">\n",
       "  <thead>\n",
       "    <tr style=\"text-align: right;\">\n",
       "      <th></th>\n",
       "      <th>loan_amnt</th>\n",
       "      <th>term</th>\n",
       "      <th>int_rate</th>\n",
       "      <th>installment</th>\n",
       "      <th>sub_grade</th>\n",
       "      <th>home_ownership</th>\n",
       "      <th>annual_income</th>\n",
       "      <th>verification_status</th>\n",
       "      <th>loan_status</th>\n",
       "      <th>purpose</th>\n",
       "      <th>...</th>\n",
       "      <th>dti</th>\n",
       "      <th>delinq_2yrs</th>\n",
       "      <th>inq_last_6mths</th>\n",
       "      <th>open_accounts</th>\n",
       "      <th>pub_rec_derogatory</th>\n",
       "      <th>revol_balance</th>\n",
       "      <th>revol_util_rate</th>\n",
       "      <th>total_accounts</th>\n",
       "      <th>pub_rec_bankruptcies</th>\n",
       "      <th>years_succes_loans</th>\n",
       "    </tr>\n",
       "  </thead>\n",
       "  <tbody>\n",
       "    <tr>\n",
       "      <th>0</th>\n",
       "      <td>5000</td>\n",
       "      <td>36 months</td>\n",
       "      <td>0.1065</td>\n",
       "      <td>162.87</td>\n",
       "      <td>B2</td>\n",
       "      <td>RENT</td>\n",
       "      <td>24000</td>\n",
       "      <td>Verified</td>\n",
       "      <td>0</td>\n",
       "      <td>credit_card</td>\n",
       "      <td>...</td>\n",
       "      <td>0.2765</td>\n",
       "      <td>0.0</td>\n",
       "      <td>1.0</td>\n",
       "      <td>3.0</td>\n",
       "      <td>0.0</td>\n",
       "      <td>13648.0</td>\n",
       "      <td>0.837</td>\n",
       "      <td>9.0</td>\n",
       "      <td>0.0</td>\n",
       "      <td>31</td>\n",
       "    </tr>\n",
       "    <tr>\n",
       "      <th>1</th>\n",
       "      <td>2500</td>\n",
       "      <td>60 months</td>\n",
       "      <td>0.1527</td>\n",
       "      <td>59.83</td>\n",
       "      <td>C4</td>\n",
       "      <td>RENT</td>\n",
       "      <td>30000</td>\n",
       "      <td>Source Verified</td>\n",
       "      <td>1</td>\n",
       "      <td>car</td>\n",
       "      <td>...</td>\n",
       "      <td>0.0100</td>\n",
       "      <td>0.0</td>\n",
       "      <td>5.0</td>\n",
       "      <td>3.0</td>\n",
       "      <td>0.0</td>\n",
       "      <td>1687.0</td>\n",
       "      <td>0.094</td>\n",
       "      <td>4.0</td>\n",
       "      <td>0.0</td>\n",
       "      <td>17</td>\n",
       "    </tr>\n",
       "    <tr>\n",
       "      <th>2</th>\n",
       "      <td>2400</td>\n",
       "      <td>36 months</td>\n",
       "      <td>0.1596</td>\n",
       "      <td>84.33</td>\n",
       "      <td>C5</td>\n",
       "      <td>RENT</td>\n",
       "      <td>12252</td>\n",
       "      <td>Not Verified</td>\n",
       "      <td>0</td>\n",
       "      <td>small_business</td>\n",
       "      <td>...</td>\n",
       "      <td>0.0872</td>\n",
       "      <td>0.0</td>\n",
       "      <td>2.0</td>\n",
       "      <td>2.0</td>\n",
       "      <td>0.0</td>\n",
       "      <td>2956.0</td>\n",
       "      <td>0.985</td>\n",
       "      <td>10.0</td>\n",
       "      <td>0.0</td>\n",
       "      <td>15</td>\n",
       "    </tr>\n",
       "    <tr>\n",
       "      <th>3</th>\n",
       "      <td>10000</td>\n",
       "      <td>36 months</td>\n",
       "      <td>0.1349</td>\n",
       "      <td>339.31</td>\n",
       "      <td>C1</td>\n",
       "      <td>RENT</td>\n",
       "      <td>49200</td>\n",
       "      <td>Source Verified</td>\n",
       "      <td>0</td>\n",
       "      <td>other</td>\n",
       "      <td>...</td>\n",
       "      <td>0.2000</td>\n",
       "      <td>0.0</td>\n",
       "      <td>1.0</td>\n",
       "      <td>10.0</td>\n",
       "      <td>0.0</td>\n",
       "      <td>5598.0</td>\n",
       "      <td>0.210</td>\n",
       "      <td>37.0</td>\n",
       "      <td>0.0</td>\n",
       "      <td>20</td>\n",
       "    </tr>\n",
       "    <tr>\n",
       "      <th>4</th>\n",
       "      <td>5000</td>\n",
       "      <td>36 months</td>\n",
       "      <td>0.0790</td>\n",
       "      <td>156.46</td>\n",
       "      <td>A4</td>\n",
       "      <td>RENT</td>\n",
       "      <td>36000</td>\n",
       "      <td>Source Verified</td>\n",
       "      <td>0</td>\n",
       "      <td>leisure</td>\n",
       "      <td>...</td>\n",
       "      <td>0.1120</td>\n",
       "      <td>0.0</td>\n",
       "      <td>3.0</td>\n",
       "      <td>9.0</td>\n",
       "      <td>0.0</td>\n",
       "      <td>7963.0</td>\n",
       "      <td>0.283</td>\n",
       "      <td>12.0</td>\n",
       "      <td>0.0</td>\n",
       "      <td>12</td>\n",
       "    </tr>\n",
       "  </tbody>\n",
       "</table>\n",
       "<p>5 rows × 21 columns</p>\n",
       "</div>"
      ],
      "text/plain": [
       "   loan_amnt        term  int_rate  installment sub_grade home_ownership  \\\n",
       "0       5000   36 months    0.1065       162.87        B2           RENT   \n",
       "1       2500   60 months    0.1527        59.83        C4           RENT   \n",
       "2       2400   36 months    0.1596        84.33        C5           RENT   \n",
       "3      10000   36 months    0.1349       339.31        C1           RENT   \n",
       "4       5000   36 months    0.0790       156.46        A4           RENT   \n",
       "\n",
       "   annual_income verification_status  loan_status         purpose  ...  \\\n",
       "0          24000            Verified            0     credit_card  ...   \n",
       "1          30000     Source Verified            1             car  ...   \n",
       "2          12252        Not Verified            0  small_business  ...   \n",
       "3          49200     Source Verified            0           other  ...   \n",
       "4          36000     Source Verified            0         leisure  ...   \n",
       "\n",
       "      dti  delinq_2yrs  inq_last_6mths  open_accounts  pub_rec_derogatory  \\\n",
       "0  0.2765          0.0             1.0            3.0                 0.0   \n",
       "1  0.0100          0.0             5.0            3.0                 0.0   \n",
       "2  0.0872          0.0             2.0            2.0                 0.0   \n",
       "3  0.2000          0.0             1.0           10.0                 0.0   \n",
       "4  0.1120          0.0             3.0            9.0                 0.0   \n",
       "\n",
       "   revol_balance  revol_util_rate  total_accounts  pub_rec_bankruptcies  \\\n",
       "0        13648.0            0.837             9.0                   0.0   \n",
       "1         1687.0            0.094             4.0                   0.0   \n",
       "2         2956.0            0.985            10.0                   0.0   \n",
       "3         5598.0            0.210            37.0                   0.0   \n",
       "4         7963.0            0.283            12.0                   0.0   \n",
       "\n",
       "   years_succes_loans  \n",
       "0                  31  \n",
       "1                  17  \n",
       "2                  15  \n",
       "3                  20  \n",
       "4                  12  \n",
       "\n",
       "[5 rows x 21 columns]"
      ]
     },
     "execution_count": 55,
     "metadata": {},
     "output_type": "execute_result"
    }
   ],
   "source": [
    "connection_string = 'mysql+pymysql://root:' + password + '@localhost/LendingClub'\n",
    "engine = create_engine(connection_string)\n",
    "query = '''SELECT *\n",
    "FROM LendingClub.loans'''\n",
    "\n",
    "df = pd.read_sql_query(query, engine)\n",
    "df.head()"
   ]
  },
  {
   "cell_type": "markdown",
   "id": "156d1b13",
   "metadata": {},
   "source": [
    "# Checking & transforming distributions"
   ]
  },
  {
   "cell_type": "code",
   "execution_count": 57,
   "id": "f6ca4f15",
   "metadata": {},
   "outputs": [
    {
     "data": {
      "image/png": "[encoded data removed]",
      "text/plain": [
       "<Figure size 360x360 with 1 Axes>"
      ]
     },
     "metadata": {
      "needs_background": "light"
     },
     "output_type": "display_data"
    },
    {
     "data": {
      "image/png": "[encoded data removed]",
      "text/plain": [
       "<Figure size 360x360 with 1 Axes>"
      ]
     },
     "metadata": {
      "needs_background": "light"
     },
     "output_type": "display_data"
    },
    {
     "data": {
      "image/png": "[encoded data removed]",
      "text/plain": [
       "<Figure size 360x360 with 1 Axes>"
      ]
     },
     "metadata": {
      "needs_background": "light"
     },
     "output_type": "display_data"
    },
    {
     "data": {
      "image/png": "[encoded data removed]",
      "text/plain": [
       "<Figure size 360x360 with 1 Axes>"
      ]
     },
     "metadata": {
      "needs_background": "light"
     },
     "output_type": "display_data"
    },
    {
     "data": {
      "image/png": "[encoded data removed]",
      "text/plain": [
       "<Figure size 360x360 with 1 Axes>"
      ]
     },
     "metadata": {
      "needs_background": "light"
     },
     "output_type": "display_data"
    },
    {
     "data": {
      "image/png": "[encoded data removed]",
      "text/plain": [
       "<Figure size 360x360 with 1 Axes>"
      ]
     },
     "metadata": {
      "needs_background": "light"
     },
     "output_type": "display_data"
    },
    {
     "data": {
      "image/png": "[encoded data removed]",
      "text/plain": [
       "<Figure size 360x360 with 1 Axes>"
      ]
     },
     "metadata": {
      "needs_background": "light"
     },
     "output_type": "display_data"
    },
    {
     "data": {
      "image/png": "[encoded data removed]",
      "text/plain": [
       "<Figure size 360x360 with 1 Axes>"
      ]
     },
     "metadata": {
      "needs_background": "light"
     },
     "output_type": "display_data"
    },
    {
     "data": {
      "image/png": "[encoded data removed]",
      "text/plain": [
       "<Figure size 360x360 with 1 Axes>"
      ]
     },
     "metadata": {
      "needs_background": "light"
     },
     "output_type": "display_data"
    },
    {
     "data": {
      "image/png": "[encoded data removed]",
      "text/plain": [
       "<Figure size 360x360 with 1 Axes>"
      ]
     },
     "metadata": {
      "needs_background": "light"
     },
     "output_type": "display_data"
    },
    {
     "data": {
      "image/png": "[encoded data removed]",
      "text/plain": [
       "<Figure size 360x360 with 1 Axes>"
      ]
     },
     "metadata": {
      "needs_background": "light"
     },
     "output_type": "display_data"
    },
    {
     "data": {
      "image/png": "[encoded data removed]",
      "text/plain": [
       "<Figure size 360x360 with 1 Axes>"
      ]
     },
     "metadata": {
      "needs_background": "light"
     },
     "output_type": "display_data"
    },
    {
     "data": {
      "image/png": "[encoded data removed]",
      "text/plain": [
       "<Figure size 360x360 with 1 Axes>"
      ]
     },
     "metadata": {
      "needs_background": "light"
     },
     "output_type": "display_data"
    },
    {
     "data": {
      "image/png": "[encoded data removed]",
      "text/plain": [
       "<Figure size 360x360 with 1 Axes>"
      ]
     },
     "metadata": {
      "needs_background": "light"
     },
     "output_type": "display_data"
    },
    {
     "data": {
      "image/png": "[encoded data removed]",
      "text/plain": [
       "<Figure size 360x360 with 1 Axes>"
      ]
     },
     "metadata": {
      "needs_background": "light"
     },
     "output_type": "display_data"
    }
   ],
   "source": [
    "# plotting the numerical variables\n",
    "# the plots below show some interesting info: DTI is close to being normally distributed\n",
    "# Installment, int_rate, loan_amnt are a little bit normally distribute with a right skew\n",
    "# annual_income is very heavily skewed to the right, there has to be some outliers in here\n",
    "# revol_balance is exponentially distributed \n",
    "# revol_util_rate is pretty evenly distributed with a slight normally distributed curve, however there are a lot of 0's here. \n",
    "# this quite intersting as this means there is a big group of members that are currently not using any of their available credit.\n",
    "\n",
    "def displot_num(df):\n",
    "    for c in df:\n",
    "        sns.displot(x=c, data=df)\n",
    "        plt.show()\n",
    "    return None\n",
    "\n",
    "displot_num(df.select_dtypes(include=np.number))"
   ]
  },
  {
   "cell_type": "code",
   "execution_count": 5,
   "id": "f9bf88ef",
   "metadata": {},
   "outputs": [],
   "source": [
    "# As loan_amnt, annual_income and revol_balance have values spread out over a big range and are pretty skewed I will log transform them\n",
    "def log_transform(x):\n",
    "    if np.isfinite(x) and x!=0:\n",
    "        return np.log(x)\n",
    "    else:\n",
    "        return np.NAN\n",
    "\n",
    "df['loan_amnt'] = df['loan_amnt'].apply(log_transform)\n",
    "df['annual_income'] = df['annual_income'].apply(log_transform)\n",
    "df['revol_balance'] = df['revol_balance'].apply(log_transform)"
   ]
  },
  {
   "cell_type": "code",
   "execution_count": 6,
   "id": "b7a6ed3a",
   "metadata": {},
   "outputs": [],
   "source": [
    "df['revol_balance'] = df['revol_balance'].fillna(np.mean(df['revol_balance']))"
   ]
  },
  {
   "cell_type": "code",
   "execution_count": 7,
   "id": "c35b3bd2",
   "metadata": {},
   "outputs": [
    {
     "data": {
      "image/png": "[encoded data removed]",
      "text/plain": [
       "<Figure size 360x360 with 1 Axes>"
      ]
     },
     "metadata": {
      "needs_background": "light"
     },
     "output_type": "display_data"
    }
   ],
   "source": [
    "sns.displot(x='revol_balance', data=df)\n",
    "plt.show()"
   ]
  },
  {
   "cell_type": "markdown",
   "id": "b2b427d2",
   "metadata": {},
   "source": [
    "# Checking for multicolinearty"
   ]
  },
  {
   "cell_type": "code",
   "execution_count": 9,
   "id": "f49fb07b",
   "metadata": {},
   "outputs": [
    {
     "data": {
      "image/png": "[encoded data removed]",
      "text/plain": [
       "<Figure size 720x576 with 2 Axes>"
      ]
     },
     "metadata": {
      "needs_background": "light"
     },
     "output_type": "display_data"
    }
   ],
   "source": [
    "correlation_matrix = df.corr()\n",
    "fig, ax = plt.subplots(figsize=(10, 8))\n",
    "sns.heatmap(correlation_matrix, annot=True)\n",
    "plt.show()"
   ]
  },
  {
   "cell_type": "code",
   "execution_count": 10,
   "id": "78482e9c",
   "metadata": {},
   "outputs": [
    {
     "data": {
      "text/plain": [
       "0.0    37627\n",
       "1.0     2059\n",
       "2.0       51\n",
       "3.0        8\n",
       "4.0        2\n",
       "Name: pub_rec_derogatory, dtype: int64"
      ]
     },
     "execution_count": 10,
     "metadata": {},
     "output_type": "execute_result"
    }
   ],
   "source": [
    "df['pub_rec_derogatory'].value_counts()"
   ]
  },
  {
   "cell_type": "code",
   "execution_count": 11,
   "id": "1cbba91e",
   "metadata": {},
   "outputs": [
    {
     "data": {
      "text/plain": [
       "0.0    38063\n",
       "1.0     1677\n",
       "2.0        7\n",
       "Name: pub_rec_bankruptcies, dtype: int64"
      ]
     },
     "execution_count": 11,
     "metadata": {},
     "output_type": "execute_result"
    }
   ],
   "source": [
    "df['pub_rec_bankruptcies'].value_counts()"
   ]
  },
  {
   "cell_type": "code",
   "execution_count": 12,
   "id": "ee58f86c",
   "metadata": {},
   "outputs": [],
   "source": [
    "# looking at the correlation matrix above we can see that installment and loan_amnt are highly correlated with each other\n",
    "# This makes sense because the installement is the monthly payment the member has to pay based on their loan amount. \n",
    "# this means there is multicolinearity, thus one of the columns has to go. \n",
    "# because the installment is a set rate based on the term and the loan amount, we can drop this column as we essentially also have this information in the loan amount and term\n",
    "df = df.drop(['installment'],axis=1)\n",
    "\n",
    "#Also 'open_accounts' & 'total_accounts' and 'pub_rec_derogatory' & 'rec_bankruptcy' correlate with each other.\n",
    "#dropping 'open_accounts' as 'total_accounts' contains the number of 'open_accounts' as well\n",
    "#dropping 'rec_bankruptcy' because is very little knownn about, and 'pub_rec_derogatory' also contains the information of 'rec_bankruptcy'. \n",
    "df = df.drop(['pub_rec_bankruptcies','open_accounts'],axis=1)"
   ]
  },
  {
   "cell_type": "markdown",
   "id": "fbfd0eb9",
   "metadata": {},
   "source": [
    "# Hypothesis Testing - Categorical multicolinearity"
   ]
  },
  {
   "cell_type": "markdown",
   "id": "93912917",
   "metadata": {},
   "source": [
    "In order to check for multicolinearity between categorical variables, I use the Chi2 score contingency to find the P-value showing me if can reject H0(there is no relationship) or not. "
   ]
  },
  {
   "cell_type": "code",
   "execution_count": 59,
   "id": "e9f710aa",
   "metadata": {},
   "outputs": [
    {
     "data": {
      "text/plain": [
       "(486.78724498394314,\n",
       " 3.874316085444531e-99,\n",
       " 9,\n",
       " array([[ 1135.37867009,   415.62132991],\n",
       "        [ 3756.77842353,  1375.22157647],\n",
       "        [13653.09321458,  4997.90678542],\n",
       "        [  237.90977935,    87.09022065],\n",
       "        [ 2966.18592598,  1085.81407402],\n",
       "        [  972.86799004,   356.13200996],\n",
       "        [ 1600.94980753,   586.05019247],\n",
       "        [  508.76091277,   186.23908723],\n",
       "        [ 2926.6563011 ,  1071.3436989 ],\n",
       "        [ 1337.41897502,   489.58102498]]))"
      ]
     },
     "execution_count": 59,
     "metadata": {},
     "output_type": "execute_result"
    }
   ],
   "source": [
    "# H0: Columns 'purpose' and 'term' are independent\n",
    "# H1: Columns 'purpose' and 'term' are NOT independent\n",
    "import scipy.stats as st\n",
    "\n",
    "data_crosstab = pd.crosstab(df['purpose'], df['term'], margins = False)\n",
    "st.chi2_contingency(data_crosstab)"
   ]
  },
  {
   "cell_type": "code",
   "execution_count": 60,
   "id": "72733fe0",
   "metadata": {},
   "outputs": [
    {
     "data": {
      "text/plain": [
       "(463.02679712844093,\n",
       " 7.706949665685216e-97,\n",
       " 6,\n",
       " array([[7530.1325383 ,   43.00256623, 1304.12733036, 8045.7375651 ],\n",
       "        [4451.42385589,   25.42088711,  770.93244773, 4756.22280927],\n",
       "        [5704.44360581,   32.57654666,  987.9402219 , 6095.03962563]]))"
      ]
     },
     "execution_count": 60,
     "metadata": {},
     "output_type": "execute_result"
    }
   ],
   "source": [
    "# H0: Columns 'verification_status' and 'home_ownership' are independent\n",
    "# H1: Columns 'verification_status' and 'home_ownership' are NOT independent\n",
    "import scipy.stats as st\n",
    "\n",
    "data_crosstab = pd.crosstab(df['verification_status'], df['home_ownership'], margins = False)\n",
    "st.chi2_contingency(data_crosstab)"
   ]
  },
  {
   "cell_type": "markdown",
   "id": "78019d51",
   "metadata": {},
   "source": [
    "In both hypothesis, H0 has to be rejected as we get a p-value of lower than 0.05. This means that there is some sort of multicolinearity. However this score does not tell us how highly both values correlate. I actually checked all my categorical variables (but left this out for space sake) and all correlate with each other in someway. As I feel the categorical variables are too important to drop and the correlation is probably so low that they won't impact the model, I decided to keep all of my categorical variables. "
   ]
  },
  {
   "cell_type": "markdown",
   "id": "bbd9df4a",
   "metadata": {},
   "source": [
    "# Preparing the data: X-Y split, Scaling and Encoding"
   ]
  },
  {
   "cell_type": "code",
   "execution_count": 14,
   "id": "30371a77",
   "metadata": {},
   "outputs": [],
   "source": [
    "#making X-Y split\n",
    "X = df.drop(['loan_status'],axis=1)\n",
    "y = df['loan_status']"
   ]
  },
  {
   "cell_type": "code",
   "execution_count": 15,
   "id": "63553250",
   "metadata": {},
   "outputs": [],
   "source": [
    "from sklearn.model_selection import train_test_split\n",
    "X_train, X_test, y_train, y_test = train_test_split(X, y, test_size=0.3, random_state=42)"
   ]
  },
  {
   "cell_type": "code",
   "execution_count": 16,
   "id": "9dd86b07",
   "metadata": {},
   "outputs": [
    {
     "data": {
      "text/html": [
       "<div>\n",
       "<style scoped>\n",
       "    .dataframe tbody tr th:only-of-type {\n",
       "        vertical-align: middle;\n",
       "    }\n",
       "\n",
       "    .dataframe tbody tr th {\n",
       "        vertical-align: top;\n",
       "    }\n",
       "\n",
       "    .dataframe thead th {\n",
       "        text-align: right;\n",
       "    }\n",
       "</style>\n",
       "<table border=\"1\" class=\"dataframe\">\n",
       "  <thead>\n",
       "    <tr style=\"text-align: right;\">\n",
       "      <th></th>\n",
       "      <th>loan_amnt</th>\n",
       "      <th>int_rate</th>\n",
       "      <th>annual_income</th>\n",
       "      <th>dti</th>\n",
       "      <th>delinq_2yrs</th>\n",
       "      <th>inq_last_6mths</th>\n",
       "      <th>pub_rec_derogatory</th>\n",
       "      <th>revol_balance</th>\n",
       "      <th>revol_util_rate</th>\n",
       "      <th>total_accounts</th>\n",
       "      <th>years_succes_loans</th>\n",
       "    </tr>\n",
       "  </thead>\n",
       "  <tbody>\n",
       "    <tr>\n",
       "      <th>0</th>\n",
       "      <td>-1.225438</td>\n",
       "      <td>-0.642333</td>\n",
       "      <td>-2.817657</td>\n",
       "      <td>-0.938280</td>\n",
       "      <td>-0.296059</td>\n",
       "      <td>-0.811776</td>\n",
       "      <td>3.964092</td>\n",
       "      <td>-2.079635</td>\n",
       "      <td>-0.523182</td>\n",
       "      <td>-0.704322</td>\n",
       "      <td>0.272528</td>\n",
       "    </tr>\n",
       "    <tr>\n",
       "      <th>1</th>\n",
       "      <td>0.419341</td>\n",
       "      <td>0.483261</td>\n",
       "      <td>1.170272</td>\n",
       "      <td>-0.875506</td>\n",
       "      <td>1.734246</td>\n",
       "      <td>0.127124</td>\n",
       "      <td>-0.235633</td>\n",
       "      <td>-0.194156</td>\n",
       "      <td>-0.158717</td>\n",
       "      <td>0.523152</td>\n",
       "      <td>-0.578297</td>\n",
       "    </tr>\n",
       "    <tr>\n",
       "      <th>2</th>\n",
       "      <td>-0.134576</td>\n",
       "      <td>-1.215902</td>\n",
       "      <td>0.198797</td>\n",
       "      <td>0.321674</td>\n",
       "      <td>1.734246</td>\n",
       "      <td>-0.811776</td>\n",
       "      <td>-0.235633</td>\n",
       "      <td>0.617298</td>\n",
       "      <td>0.616213</td>\n",
       "      <td>-0.002909</td>\n",
       "      <td>-0.294689</td>\n",
       "    </tr>\n",
       "    <tr>\n",
       "      <th>3</th>\n",
       "      <td>-0.418237</td>\n",
       "      <td>1.495757</td>\n",
       "      <td>-1.510063</td>\n",
       "      <td>0.193138</td>\n",
       "      <td>-0.296059</td>\n",
       "      <td>1.066023</td>\n",
       "      <td>-0.235633</td>\n",
       "      <td>0.429562</td>\n",
       "      <td>1.702531</td>\n",
       "      <td>-0.616646</td>\n",
       "      <td>-0.861905</td>\n",
       "    </tr>\n",
       "    <tr>\n",
       "      <th>4</th>\n",
       "      <td>-1.474513</td>\n",
       "      <td>-0.039144</td>\n",
       "      <td>-0.664299</td>\n",
       "      <td>-0.945753</td>\n",
       "      <td>-0.296059</td>\n",
       "      <td>0.127124</td>\n",
       "      <td>-0.235633</td>\n",
       "      <td>-1.392817</td>\n",
       "      <td>-0.314411</td>\n",
       "      <td>0.961535</td>\n",
       "      <td>0.556136</td>\n",
       "    </tr>\n",
       "    <tr>\n",
       "      <th>...</th>\n",
       "      <td>...</td>\n",
       "      <td>...</td>\n",
       "      <td>...</td>\n",
       "      <td>...</td>\n",
       "      <td>...</td>\n",
       "      <td>...</td>\n",
       "      <td>...</td>\n",
       "      <td>...</td>\n",
       "      <td>...</td>\n",
       "      <td>...</td>\n",
       "      <td>...</td>\n",
       "    </tr>\n",
       "    <tr>\n",
       "      <th>11920</th>\n",
       "      <td>0.419341</td>\n",
       "      <td>-0.241105</td>\n",
       "      <td>1.118435</td>\n",
       "      <td>-1.403103</td>\n",
       "      <td>-0.296059</td>\n",
       "      <td>2.943822</td>\n",
       "      <td>-0.235633</td>\n",
       "      <td>-1.369916</td>\n",
       "      <td>-1.517499</td>\n",
       "      <td>1.136889</td>\n",
       "      <td>0.130724</td>\n",
       "    </tr>\n",
       "    <tr>\n",
       "      <th>11921</th>\n",
       "      <td>0.100193</td>\n",
       "      <td>-0.437680</td>\n",
       "      <td>0.055886</td>\n",
       "      <td>0.054140</td>\n",
       "      <td>-0.296059</td>\n",
       "      <td>-0.811776</td>\n",
       "      <td>-0.235633</td>\n",
       "      <td>1.416456</td>\n",
       "      <td>0.007592</td>\n",
       "      <td>0.610828</td>\n",
       "      <td>1.406960</td>\n",
       "    </tr>\n",
       "    <tr>\n",
       "      <th>11922</th>\n",
       "      <td>1.247399</td>\n",
       "      <td>1.161849</td>\n",
       "      <td>0.468521</td>\n",
       "      <td>0.208084</td>\n",
       "      <td>-0.296059</td>\n",
       "      <td>0.127124</td>\n",
       "      <td>-0.235633</td>\n",
       "      <td>1.104819</td>\n",
       "      <td>1.054987</td>\n",
       "      <td>0.786182</td>\n",
       "      <td>0.556136</td>\n",
       "    </tr>\n",
       "    <tr>\n",
       "      <th>11923</th>\n",
       "      <td>1.117193</td>\n",
       "      <td>-1.215902</td>\n",
       "      <td>0.055886</td>\n",
       "      <td>2.053925</td>\n",
       "      <td>-0.296059</td>\n",
       "      <td>-0.811776</td>\n",
       "      <td>-0.235633</td>\n",
       "      <td>0.544141</td>\n",
       "      <td>-1.053957</td>\n",
       "      <td>1.487595</td>\n",
       "      <td>1.690568</td>\n",
       "    </tr>\n",
       "    <tr>\n",
       "      <th>11924</th>\n",
       "      <td>0.361199</td>\n",
       "      <td>-0.639641</td>\n",
       "      <td>0.374900</td>\n",
       "      <td>0.390426</td>\n",
       "      <td>-0.296059</td>\n",
       "      <td>2.004922</td>\n",
       "      <td>-0.235633</td>\n",
       "      <td>-0.701790</td>\n",
       "      <td>-1.018572</td>\n",
       "      <td>0.435475</td>\n",
       "      <td>-0.861905</td>\n",
       "    </tr>\n",
       "  </tbody>\n",
       "</table>\n",
       "<p>11925 rows × 11 columns</p>\n",
       "</div>"
      ],
      "text/plain": [
       "       loan_amnt  int_rate  annual_income       dti  delinq_2yrs  \\\n",
       "0      -1.225438 -0.642333      -2.817657 -0.938280    -0.296059   \n",
       "1       0.419341  0.483261       1.170272 -0.875506     1.734246   \n",
       "2      -0.134576 -1.215902       0.198797  0.321674     1.734246   \n",
       "3      -0.418237  1.495757      -1.510063  0.193138    -0.296059   \n",
       "4      -1.474513 -0.039144      -0.664299 -0.945753    -0.296059   \n",
       "...          ...       ...            ...       ...          ...   \n",
       "11920   0.419341 -0.241105       1.118435 -1.403103    -0.296059   \n",
       "11921   0.100193 -0.437680       0.055886  0.054140    -0.296059   \n",
       "11922   1.247399  1.161849       0.468521  0.208084    -0.296059   \n",
       "11923   1.117193 -1.215902       0.055886  2.053925    -0.296059   \n",
       "11924   0.361199 -0.639641       0.374900  0.390426    -0.296059   \n",
       "\n",
       "       inq_last_6mths  pub_rec_derogatory  revol_balance  revol_util_rate  \\\n",
       "0           -0.811776            3.964092      -2.079635        -0.523182   \n",
       "1            0.127124           -0.235633      -0.194156        -0.158717   \n",
       "2           -0.811776           -0.235633       0.617298         0.616213   \n",
       "3            1.066023           -0.235633       0.429562         1.702531   \n",
       "4            0.127124           -0.235633      -1.392817        -0.314411   \n",
       "...               ...                 ...            ...              ...   \n",
       "11920        2.943822           -0.235633      -1.369916        -1.517499   \n",
       "11921       -0.811776           -0.235633       1.416456         0.007592   \n",
       "11922        0.127124           -0.235633       1.104819         1.054987   \n",
       "11923       -0.811776           -0.235633       0.544141        -1.053957   \n",
       "11924        2.004922           -0.235633      -0.701790        -1.018572   \n",
       "\n",
       "       total_accounts  years_succes_loans  \n",
       "0           -0.704322            0.272528  \n",
       "1            0.523152           -0.578297  \n",
       "2           -0.002909           -0.294689  \n",
       "3           -0.616646           -0.861905  \n",
       "4            0.961535            0.556136  \n",
       "...               ...                 ...  \n",
       "11920        1.136889            0.130724  \n",
       "11921        0.610828            1.406960  \n",
       "11922        0.786182            0.556136  \n",
       "11923        1.487595            1.690568  \n",
       "11924        0.435475           -0.861905  \n",
       "\n",
       "[11925 rows x 11 columns]"
      ]
     },
     "execution_count": 16,
     "metadata": {},
     "output_type": "execute_result"
    }
   ],
   "source": [
    "#cat/num X-train\n",
    "#make a split between the continuous and discrete variables as I don't want to scale or encode the discrete ones, I want to keep their current values\n",
    "X_train_num = X_train.select_dtypes(include = np.number)\n",
    "X_train_cat = X_train.select_dtypes(object)\n",
    "\n",
    "#cat/num X-test\n",
    "X_test_num = X_test.select_dtypes(include = np.number)\n",
    "X_test_cat = X_test.select_dtypes(object)\n",
    "\n",
    "\n",
    "from sklearn.preprocessing import StandardScaler\n",
    "#Scale X-train\n",
    "transformer = StandardScaler().fit(X_train_num)\n",
    "X_scaled_train = pd.DataFrame(transformer.transform(X_train_num),columns=X_train_num.columns)\n",
    "\n",
    "#Scale X-test\n",
    "X_scaled_test = pd.DataFrame(transformer.transform(X_test_num),columns=X_test_num.columns)\n",
    "X_scaled_test"
   ]
  },
  {
   "cell_type": "code",
   "execution_count": 18,
   "id": "511479ce",
   "metadata": {},
   "outputs": [
    {
     "data": {
      "text/html": [
       "<div>\n",
       "<style scoped>\n",
       "    .dataframe tbody tr th:only-of-type {\n",
       "        vertical-align: middle;\n",
       "    }\n",
       "\n",
       "    .dataframe tbody tr th {\n",
       "        vertical-align: top;\n",
       "    }\n",
       "\n",
       "    .dataframe thead th {\n",
       "        text-align: right;\n",
       "    }\n",
       "</style>\n",
       "<table border=\"1\" class=\"dataframe\">\n",
       "  <thead>\n",
       "    <tr style=\"text-align: right;\">\n",
       "      <th></th>\n",
       "      <th>60 months</th>\n",
       "      <th>A2</th>\n",
       "      <th>A3</th>\n",
       "      <th>A4</th>\n",
       "      <th>A5</th>\n",
       "      <th>B1</th>\n",
       "      <th>B2</th>\n",
       "      <th>B3</th>\n",
       "      <th>B4</th>\n",
       "      <th>B5</th>\n",
       "      <th>...</th>\n",
       "      <th>home_improvement</th>\n",
       "      <th>leisure</th>\n",
       "      <th>major_purchase</th>\n",
       "      <th>medical</th>\n",
       "      <th>other</th>\n",
       "      <th>small_business</th>\n",
       "      <th>Northeast</th>\n",
       "      <th>Southeast</th>\n",
       "      <th>Southwest</th>\n",
       "      <th>West</th>\n",
       "    </tr>\n",
       "  </thead>\n",
       "  <tbody>\n",
       "    <tr>\n",
       "      <th>0</th>\n",
       "      <td>0.0</td>\n",
       "      <td>0.0</td>\n",
       "      <td>0.0</td>\n",
       "      <td>0.0</td>\n",
       "      <td>0.0</td>\n",
       "      <td>0.0</td>\n",
       "      <td>1.0</td>\n",
       "      <td>0.0</td>\n",
       "      <td>0.0</td>\n",
       "      <td>0.0</td>\n",
       "      <td>...</td>\n",
       "      <td>0.0</td>\n",
       "      <td>0.0</td>\n",
       "      <td>0.0</td>\n",
       "      <td>0.0</td>\n",
       "      <td>0.0</td>\n",
       "      <td>0.0</td>\n",
       "      <td>0.0</td>\n",
       "      <td>0.0</td>\n",
       "      <td>1.0</td>\n",
       "      <td>0.0</td>\n",
       "    </tr>\n",
       "    <tr>\n",
       "      <th>1</th>\n",
       "      <td>0.0</td>\n",
       "      <td>0.0</td>\n",
       "      <td>0.0</td>\n",
       "      <td>0.0</td>\n",
       "      <td>0.0</td>\n",
       "      <td>0.0</td>\n",
       "      <td>0.0</td>\n",
       "      <td>1.0</td>\n",
       "      <td>0.0</td>\n",
       "      <td>0.0</td>\n",
       "      <td>...</td>\n",
       "      <td>0.0</td>\n",
       "      <td>0.0</td>\n",
       "      <td>0.0</td>\n",
       "      <td>0.0</td>\n",
       "      <td>1.0</td>\n",
       "      <td>0.0</td>\n",
       "      <td>0.0</td>\n",
       "      <td>0.0</td>\n",
       "      <td>0.0</td>\n",
       "      <td>1.0</td>\n",
       "    </tr>\n",
       "    <tr>\n",
       "      <th>2</th>\n",
       "      <td>0.0</td>\n",
       "      <td>0.0</td>\n",
       "      <td>0.0</td>\n",
       "      <td>0.0</td>\n",
       "      <td>1.0</td>\n",
       "      <td>0.0</td>\n",
       "      <td>0.0</td>\n",
       "      <td>0.0</td>\n",
       "      <td>0.0</td>\n",
       "      <td>0.0</td>\n",
       "      <td>...</td>\n",
       "      <td>1.0</td>\n",
       "      <td>0.0</td>\n",
       "      <td>0.0</td>\n",
       "      <td>0.0</td>\n",
       "      <td>0.0</td>\n",
       "      <td>0.0</td>\n",
       "      <td>0.0</td>\n",
       "      <td>0.0</td>\n",
       "      <td>0.0</td>\n",
       "      <td>1.0</td>\n",
       "    </tr>\n",
       "    <tr>\n",
       "      <th>3</th>\n",
       "      <td>1.0</td>\n",
       "      <td>0.0</td>\n",
       "      <td>0.0</td>\n",
       "      <td>0.0</td>\n",
       "      <td>0.0</td>\n",
       "      <td>0.0</td>\n",
       "      <td>0.0</td>\n",
       "      <td>0.0</td>\n",
       "      <td>0.0</td>\n",
       "      <td>1.0</td>\n",
       "      <td>...</td>\n",
       "      <td>1.0</td>\n",
       "      <td>0.0</td>\n",
       "      <td>0.0</td>\n",
       "      <td>0.0</td>\n",
       "      <td>0.0</td>\n",
       "      <td>0.0</td>\n",
       "      <td>0.0</td>\n",
       "      <td>0.0</td>\n",
       "      <td>0.0</td>\n",
       "      <td>0.0</td>\n",
       "    </tr>\n",
       "    <tr>\n",
       "      <th>4</th>\n",
       "      <td>0.0</td>\n",
       "      <td>0.0</td>\n",
       "      <td>0.0</td>\n",
       "      <td>0.0</td>\n",
       "      <td>0.0</td>\n",
       "      <td>0.0</td>\n",
       "      <td>0.0</td>\n",
       "      <td>0.0</td>\n",
       "      <td>0.0</td>\n",
       "      <td>0.0</td>\n",
       "      <td>...</td>\n",
       "      <td>0.0</td>\n",
       "      <td>0.0</td>\n",
       "      <td>0.0</td>\n",
       "      <td>0.0</td>\n",
       "      <td>0.0</td>\n",
       "      <td>0.0</td>\n",
       "      <td>1.0</td>\n",
       "      <td>0.0</td>\n",
       "      <td>0.0</td>\n",
       "      <td>0.0</td>\n",
       "    </tr>\n",
       "  </tbody>\n",
       "</table>\n",
       "<p>5 rows × 53 columns</p>\n",
       "</div>"
      ],
      "text/plain": [
       "    60 months   A2   A3   A4   A5   B1   B2   B3   B4   B5  ...  \\\n",
       "0         0.0  0.0  0.0  0.0  0.0  0.0  1.0  0.0  0.0  0.0  ...   \n",
       "1         0.0  0.0  0.0  0.0  0.0  0.0  0.0  1.0  0.0  0.0  ...   \n",
       "2         0.0  0.0  0.0  0.0  1.0  0.0  0.0  0.0  0.0  0.0  ...   \n",
       "3         1.0  0.0  0.0  0.0  0.0  0.0  0.0  0.0  0.0  1.0  ...   \n",
       "4         0.0  0.0  0.0  0.0  0.0  0.0  0.0  0.0  0.0  0.0  ...   \n",
       "\n",
       "   home_improvement  leisure  major_purchase  medical  other  small_business  \\\n",
       "0               0.0      0.0             0.0      0.0    0.0             0.0   \n",
       "1               0.0      0.0             0.0      0.0    1.0             0.0   \n",
       "2               1.0      0.0             0.0      0.0    0.0             0.0   \n",
       "3               1.0      0.0             0.0      0.0    0.0             0.0   \n",
       "4               0.0      0.0             0.0      0.0    0.0             0.0   \n",
       "\n",
       "   Northeast  Southeast  Southwest  West  \n",
       "0        0.0        0.0        1.0   0.0  \n",
       "1        0.0        0.0        0.0   1.0  \n",
       "2        0.0        0.0        0.0   1.0  \n",
       "3        0.0        0.0        0.0   0.0  \n",
       "4        1.0        0.0        0.0   0.0  \n",
       "\n",
       "[5 rows x 53 columns]"
      ]
     },
     "execution_count": 18,
     "metadata": {},
     "output_type": "execute_result"
    }
   ],
   "source": [
    "from sklearn.preprocessing import OneHotEncoder\n",
    "# Onehot encoding\n",
    "encoder = OneHotEncoder().fit(X_train_cat)\n",
    "\n",
    "# encode training data\n",
    "train_encoded = encoder.transform(X_train_cat).toarray()\n",
    "\n",
    "train_encoded_columns = list()\n",
    "train_dropped_columns = list()\n",
    "\n",
    "for columns in encoder.categories_:\n",
    "    condition = True\n",
    "    for column in columns.tolist():\n",
    "        if condition:\n",
    "            train_dropped_columns.append(column)\n",
    "            train_encoded_columns.append(column)\n",
    "            condition = False\n",
    "        else:\n",
    "            train_encoded_columns.append(column)\n",
    "\n",
    "train_cat_encoded = pd.DataFrame(data = train_encoded, columns=train_encoded_columns)\n",
    "train_cat_encoded = train_cat_encoded.drop(columns = train_dropped_columns)\n",
    "train_cat_encoded.head()"
   ]
  },
  {
   "cell_type": "code",
   "execution_count": 19,
   "id": "5d4bb525",
   "metadata": {},
   "outputs": [
    {
     "data": {
      "text/html": [
       "<div>\n",
       "<style scoped>\n",
       "    .dataframe tbody tr th:only-of-type {\n",
       "        vertical-align: middle;\n",
       "    }\n",
       "\n",
       "    .dataframe tbody tr th {\n",
       "        vertical-align: top;\n",
       "    }\n",
       "\n",
       "    .dataframe thead th {\n",
       "        text-align: right;\n",
       "    }\n",
       "</style>\n",
       "<table border=\"1\" class=\"dataframe\">\n",
       "  <thead>\n",
       "    <tr style=\"text-align: right;\">\n",
       "      <th></th>\n",
       "      <th>60 months</th>\n",
       "      <th>A2</th>\n",
       "      <th>A3</th>\n",
       "      <th>A4</th>\n",
       "      <th>A5</th>\n",
       "      <th>B1</th>\n",
       "      <th>B2</th>\n",
       "      <th>B3</th>\n",
       "      <th>B4</th>\n",
       "      <th>B5</th>\n",
       "      <th>...</th>\n",
       "      <th>home_improvement</th>\n",
       "      <th>leisure</th>\n",
       "      <th>major_purchase</th>\n",
       "      <th>medical</th>\n",
       "      <th>other</th>\n",
       "      <th>small_business</th>\n",
       "      <th>Northeast</th>\n",
       "      <th>Southeast</th>\n",
       "      <th>Southwest</th>\n",
       "      <th>West</th>\n",
       "    </tr>\n",
       "  </thead>\n",
       "  <tbody>\n",
       "    <tr>\n",
       "      <th>0</th>\n",
       "      <td>0.0</td>\n",
       "      <td>0.0</td>\n",
       "      <td>0.0</td>\n",
       "      <td>0.0</td>\n",
       "      <td>0.0</td>\n",
       "      <td>0.0</td>\n",
       "      <td>0.0</td>\n",
       "      <td>1.0</td>\n",
       "      <td>0.0</td>\n",
       "      <td>0.0</td>\n",
       "      <td>...</td>\n",
       "      <td>0.0</td>\n",
       "      <td>0.0</td>\n",
       "      <td>0.0</td>\n",
       "      <td>1.0</td>\n",
       "      <td>0.0</td>\n",
       "      <td>0.0</td>\n",
       "      <td>0.0</td>\n",
       "      <td>0.0</td>\n",
       "      <td>0.0</td>\n",
       "      <td>1.0</td>\n",
       "    </tr>\n",
       "    <tr>\n",
       "      <th>1</th>\n",
       "      <td>1.0</td>\n",
       "      <td>0.0</td>\n",
       "      <td>0.0</td>\n",
       "      <td>0.0</td>\n",
       "      <td>0.0</td>\n",
       "      <td>0.0</td>\n",
       "      <td>0.0</td>\n",
       "      <td>0.0</td>\n",
       "      <td>0.0</td>\n",
       "      <td>0.0</td>\n",
       "      <td>...</td>\n",
       "      <td>0.0</td>\n",
       "      <td>0.0</td>\n",
       "      <td>1.0</td>\n",
       "      <td>0.0</td>\n",
       "      <td>0.0</td>\n",
       "      <td>0.0</td>\n",
       "      <td>0.0</td>\n",
       "      <td>0.0</td>\n",
       "      <td>0.0</td>\n",
       "      <td>1.0</td>\n",
       "    </tr>\n",
       "    <tr>\n",
       "      <th>2</th>\n",
       "      <td>0.0</td>\n",
       "      <td>0.0</td>\n",
       "      <td>0.0</td>\n",
       "      <td>1.0</td>\n",
       "      <td>0.0</td>\n",
       "      <td>0.0</td>\n",
       "      <td>0.0</td>\n",
       "      <td>0.0</td>\n",
       "      <td>0.0</td>\n",
       "      <td>0.0</td>\n",
       "      <td>...</td>\n",
       "      <td>0.0</td>\n",
       "      <td>0.0</td>\n",
       "      <td>0.0</td>\n",
       "      <td>0.0</td>\n",
       "      <td>1.0</td>\n",
       "      <td>0.0</td>\n",
       "      <td>1.0</td>\n",
       "      <td>0.0</td>\n",
       "      <td>0.0</td>\n",
       "      <td>0.0</td>\n",
       "    </tr>\n",
       "    <tr>\n",
       "      <th>3</th>\n",
       "      <td>1.0</td>\n",
       "      <td>0.0</td>\n",
       "      <td>0.0</td>\n",
       "      <td>0.0</td>\n",
       "      <td>0.0</td>\n",
       "      <td>0.0</td>\n",
       "      <td>0.0</td>\n",
       "      <td>0.0</td>\n",
       "      <td>0.0</td>\n",
       "      <td>0.0</td>\n",
       "      <td>...</td>\n",
       "      <td>0.0</td>\n",
       "      <td>0.0</td>\n",
       "      <td>0.0</td>\n",
       "      <td>0.0</td>\n",
       "      <td>0.0</td>\n",
       "      <td>0.0</td>\n",
       "      <td>0.0</td>\n",
       "      <td>0.0</td>\n",
       "      <td>0.0</td>\n",
       "      <td>1.0</td>\n",
       "    </tr>\n",
       "    <tr>\n",
       "      <th>4</th>\n",
       "      <td>1.0</td>\n",
       "      <td>0.0</td>\n",
       "      <td>0.0</td>\n",
       "      <td>0.0</td>\n",
       "      <td>0.0</td>\n",
       "      <td>0.0</td>\n",
       "      <td>0.0</td>\n",
       "      <td>0.0</td>\n",
       "      <td>0.0</td>\n",
       "      <td>1.0</td>\n",
       "      <td>...</td>\n",
       "      <td>0.0</td>\n",
       "      <td>1.0</td>\n",
       "      <td>0.0</td>\n",
       "      <td>0.0</td>\n",
       "      <td>0.0</td>\n",
       "      <td>0.0</td>\n",
       "      <td>1.0</td>\n",
       "      <td>0.0</td>\n",
       "      <td>0.0</td>\n",
       "      <td>0.0</td>\n",
       "    </tr>\n",
       "    <tr>\n",
       "      <th>...</th>\n",
       "      <td>...</td>\n",
       "      <td>...</td>\n",
       "      <td>...</td>\n",
       "      <td>...</td>\n",
       "      <td>...</td>\n",
       "      <td>...</td>\n",
       "      <td>...</td>\n",
       "      <td>...</td>\n",
       "      <td>...</td>\n",
       "      <td>...</td>\n",
       "      <td>...</td>\n",
       "      <td>...</td>\n",
       "      <td>...</td>\n",
       "      <td>...</td>\n",
       "      <td>...</td>\n",
       "      <td>...</td>\n",
       "      <td>...</td>\n",
       "      <td>...</td>\n",
       "      <td>...</td>\n",
       "      <td>...</td>\n",
       "      <td>...</td>\n",
       "    </tr>\n",
       "    <tr>\n",
       "      <th>11920</th>\n",
       "      <td>1.0</td>\n",
       "      <td>0.0</td>\n",
       "      <td>0.0</td>\n",
       "      <td>0.0</td>\n",
       "      <td>0.0</td>\n",
       "      <td>0.0</td>\n",
       "      <td>0.0</td>\n",
       "      <td>0.0</td>\n",
       "      <td>0.0</td>\n",
       "      <td>1.0</td>\n",
       "      <td>...</td>\n",
       "      <td>0.0</td>\n",
       "      <td>0.0</td>\n",
       "      <td>0.0</td>\n",
       "      <td>0.0</td>\n",
       "      <td>0.0</td>\n",
       "      <td>0.0</td>\n",
       "      <td>0.0</td>\n",
       "      <td>1.0</td>\n",
       "      <td>0.0</td>\n",
       "      <td>0.0</td>\n",
       "    </tr>\n",
       "    <tr>\n",
       "      <th>11921</th>\n",
       "      <td>1.0</td>\n",
       "      <td>0.0</td>\n",
       "      <td>0.0</td>\n",
       "      <td>0.0</td>\n",
       "      <td>0.0</td>\n",
       "      <td>1.0</td>\n",
       "      <td>0.0</td>\n",
       "      <td>0.0</td>\n",
       "      <td>0.0</td>\n",
       "      <td>0.0</td>\n",
       "      <td>...</td>\n",
       "      <td>0.0</td>\n",
       "      <td>0.0</td>\n",
       "      <td>0.0</td>\n",
       "      <td>0.0</td>\n",
       "      <td>0.0</td>\n",
       "      <td>1.0</td>\n",
       "      <td>0.0</td>\n",
       "      <td>0.0</td>\n",
       "      <td>1.0</td>\n",
       "      <td>0.0</td>\n",
       "    </tr>\n",
       "    <tr>\n",
       "      <th>11922</th>\n",
       "      <td>1.0</td>\n",
       "      <td>0.0</td>\n",
       "      <td>0.0</td>\n",
       "      <td>0.0</td>\n",
       "      <td>0.0</td>\n",
       "      <td>0.0</td>\n",
       "      <td>0.0</td>\n",
       "      <td>0.0</td>\n",
       "      <td>0.0</td>\n",
       "      <td>0.0</td>\n",
       "      <td>...</td>\n",
       "      <td>0.0</td>\n",
       "      <td>0.0</td>\n",
       "      <td>0.0</td>\n",
       "      <td>0.0</td>\n",
       "      <td>0.0</td>\n",
       "      <td>0.0</td>\n",
       "      <td>1.0</td>\n",
       "      <td>0.0</td>\n",
       "      <td>0.0</td>\n",
       "      <td>0.0</td>\n",
       "    </tr>\n",
       "    <tr>\n",
       "      <th>11923</th>\n",
       "      <td>0.0</td>\n",
       "      <td>0.0</td>\n",
       "      <td>0.0</td>\n",
       "      <td>1.0</td>\n",
       "      <td>0.0</td>\n",
       "      <td>0.0</td>\n",
       "      <td>0.0</td>\n",
       "      <td>0.0</td>\n",
       "      <td>0.0</td>\n",
       "      <td>0.0</td>\n",
       "      <td>...</td>\n",
       "      <td>0.0</td>\n",
       "      <td>0.0</td>\n",
       "      <td>0.0</td>\n",
       "      <td>0.0</td>\n",
       "      <td>0.0</td>\n",
       "      <td>0.0</td>\n",
       "      <td>1.0</td>\n",
       "      <td>0.0</td>\n",
       "      <td>0.0</td>\n",
       "      <td>0.0</td>\n",
       "    </tr>\n",
       "    <tr>\n",
       "      <th>11924</th>\n",
       "      <td>0.0</td>\n",
       "      <td>0.0</td>\n",
       "      <td>0.0</td>\n",
       "      <td>0.0</td>\n",
       "      <td>0.0</td>\n",
       "      <td>1.0</td>\n",
       "      <td>0.0</td>\n",
       "      <td>0.0</td>\n",
       "      <td>0.0</td>\n",
       "      <td>0.0</td>\n",
       "      <td>...</td>\n",
       "      <td>1.0</td>\n",
       "      <td>0.0</td>\n",
       "      <td>0.0</td>\n",
       "      <td>0.0</td>\n",
       "      <td>0.0</td>\n",
       "      <td>0.0</td>\n",
       "      <td>0.0</td>\n",
       "      <td>0.0</td>\n",
       "      <td>1.0</td>\n",
       "      <td>0.0</td>\n",
       "    </tr>\n",
       "  </tbody>\n",
       "</table>\n",
       "<p>11925 rows × 53 columns</p>\n",
       "</div>"
      ],
      "text/plain": [
       "        60 months   A2   A3   A4   A5   B1   B2   B3   B4   B5  ...  \\\n",
       "0             0.0  0.0  0.0  0.0  0.0  0.0  0.0  1.0  0.0  0.0  ...   \n",
       "1             1.0  0.0  0.0  0.0  0.0  0.0  0.0  0.0  0.0  0.0  ...   \n",
       "2             0.0  0.0  0.0  1.0  0.0  0.0  0.0  0.0  0.0  0.0  ...   \n",
       "3             1.0  0.0  0.0  0.0  0.0  0.0  0.0  0.0  0.0  0.0  ...   \n",
       "4             1.0  0.0  0.0  0.0  0.0  0.0  0.0  0.0  0.0  1.0  ...   \n",
       "...           ...  ...  ...  ...  ...  ...  ...  ...  ...  ...  ...   \n",
       "11920         1.0  0.0  0.0  0.0  0.0  0.0  0.0  0.0  0.0  1.0  ...   \n",
       "11921         1.0  0.0  0.0  0.0  0.0  1.0  0.0  0.0  0.0  0.0  ...   \n",
       "11922         1.0  0.0  0.0  0.0  0.0  0.0  0.0  0.0  0.0  0.0  ...   \n",
       "11923         0.0  0.0  0.0  1.0  0.0  0.0  0.0  0.0  0.0  0.0  ...   \n",
       "11924         0.0  0.0  0.0  0.0  0.0  1.0  0.0  0.0  0.0  0.0  ...   \n",
       "\n",
       "       home_improvement  leisure  major_purchase  medical  other  \\\n",
       "0                   0.0      0.0             0.0      1.0    0.0   \n",
       "1                   0.0      0.0             1.0      0.0    0.0   \n",
       "2                   0.0      0.0             0.0      0.0    1.0   \n",
       "3                   0.0      0.0             0.0      0.0    0.0   \n",
       "4                   0.0      1.0             0.0      0.0    0.0   \n",
       "...                 ...      ...             ...      ...    ...   \n",
       "11920               0.0      0.0             0.0      0.0    0.0   \n",
       "11921               0.0      0.0             0.0      0.0    0.0   \n",
       "11922               0.0      0.0             0.0      0.0    0.0   \n",
       "11923               0.0      0.0             0.0      0.0    0.0   \n",
       "11924               1.0      0.0             0.0      0.0    0.0   \n",
       "\n",
       "       small_business  Northeast  Southeast  Southwest  West  \n",
       "0                 0.0        0.0        0.0        0.0   1.0  \n",
       "1                 0.0        0.0        0.0        0.0   1.0  \n",
       "2                 0.0        1.0        0.0        0.0   0.0  \n",
       "3                 0.0        0.0        0.0        0.0   1.0  \n",
       "4                 0.0        1.0        0.0        0.0   0.0  \n",
       "...               ...        ...        ...        ...   ...  \n",
       "11920             0.0        0.0        1.0        0.0   0.0  \n",
       "11921             1.0        0.0        0.0        1.0   0.0  \n",
       "11922             0.0        1.0        0.0        0.0   0.0  \n",
       "11923             0.0        1.0        0.0        0.0   0.0  \n",
       "11924             0.0        0.0        0.0        1.0   0.0  \n",
       "\n",
       "[11925 rows x 53 columns]"
      ]
     },
     "execution_count": 19,
     "metadata": {},
     "output_type": "execute_result"
    }
   ],
   "source": [
    "# encode test data\n",
    "test_encoded = encoder.transform(X_test_cat).toarray()\n",
    "\n",
    "test_encoded_columns = list()\n",
    "test_dropped_columns = list()\n",
    "\n",
    "for columns in encoder.categories_:\n",
    "    condition = True\n",
    "    for column in columns.tolist():\n",
    "        if condition:\n",
    "            test_dropped_columns.append(column)\n",
    "            test_encoded_columns.append(column)\n",
    "            condition = False\n",
    "        else:\n",
    "            test_encoded_columns.append(column)\n",
    "\n",
    "test_cat_encoded = pd.DataFrame(data = test_encoded, columns=test_encoded_columns)\n",
    "test_cat_encoded = test_cat_encoded.drop(columns = test_dropped_columns)\n",
    "test_cat_encoded"
   ]
  },
  {
   "cell_type": "code",
   "execution_count": 20,
   "id": "ab27e641",
   "metadata": {},
   "outputs": [
    {
     "data": {
      "text/html": [
       "<div>\n",
       "<style scoped>\n",
       "    .dataframe tbody tr th:only-of-type {\n",
       "        vertical-align: middle;\n",
       "    }\n",
       "\n",
       "    .dataframe tbody tr th {\n",
       "        vertical-align: top;\n",
       "    }\n",
       "\n",
       "    .dataframe thead th {\n",
       "        text-align: right;\n",
       "    }\n",
       "</style>\n",
       "<table border=\"1\" class=\"dataframe\">\n",
       "  <thead>\n",
       "    <tr style=\"text-align: right;\">\n",
       "      <th></th>\n",
       "      <th>loan_amnt</th>\n",
       "      <th>int_rate</th>\n",
       "      <th>annual_income</th>\n",
       "      <th>dti</th>\n",
       "      <th>delinq_2yrs</th>\n",
       "      <th>inq_last_6mths</th>\n",
       "      <th>pub_rec_derogatory</th>\n",
       "      <th>revol_balance</th>\n",
       "      <th>revol_util_rate</th>\n",
       "      <th>total_accounts</th>\n",
       "      <th>...</th>\n",
       "      <th>home_improvement</th>\n",
       "      <th>leisure</th>\n",
       "      <th>major_purchase</th>\n",
       "      <th>medical</th>\n",
       "      <th>other</th>\n",
       "      <th>small_business</th>\n",
       "      <th>Northeast</th>\n",
       "      <th>Southeast</th>\n",
       "      <th>Southwest</th>\n",
       "      <th>West</th>\n",
       "    </tr>\n",
       "  </thead>\n",
       "  <tbody>\n",
       "    <tr>\n",
       "      <th>0</th>\n",
       "      <td>0.026331</td>\n",
       "      <td>-0.381131</td>\n",
       "      <td>-0.067296</td>\n",
       "      <td>-0.735013</td>\n",
       "      <td>-0.296059</td>\n",
       "      <td>0.127124</td>\n",
       "      <td>-0.235633</td>\n",
       "      <td>0.247258</td>\n",
       "      <td>-0.133948</td>\n",
       "      <td>-0.090585</td>\n",
       "      <td>...</td>\n",
       "      <td>0.0</td>\n",
       "      <td>0.0</td>\n",
       "      <td>0.0</td>\n",
       "      <td>0.0</td>\n",
       "      <td>0.0</td>\n",
       "      <td>0.0</td>\n",
       "      <td>0.0</td>\n",
       "      <td>0.0</td>\n",
       "      <td>1.0</td>\n",
       "      <td>0.0</td>\n",
       "    </tr>\n",
       "    <tr>\n",
       "      <th>1</th>\n",
       "      <td>-1.081503</td>\n",
       "      <td>-0.273419</td>\n",
       "      <td>-0.668223</td>\n",
       "      <td>-1.437479</td>\n",
       "      <td>-0.296059</td>\n",
       "      <td>-0.811776</td>\n",
       "      <td>-0.235633</td>\n",
       "      <td>-0.420241</td>\n",
       "      <td>0.598521</td>\n",
       "      <td>-0.967353</td>\n",
       "      <td>...</td>\n",
       "      <td>0.0</td>\n",
       "      <td>0.0</td>\n",
       "      <td>0.0</td>\n",
       "      <td>0.0</td>\n",
       "      <td>1.0</td>\n",
       "      <td>0.0</td>\n",
       "      <td>0.0</td>\n",
       "      <td>0.0</td>\n",
       "      <td>0.0</td>\n",
       "      <td>1.0</td>\n",
       "    </tr>\n",
       "    <tr>\n",
       "      <th>2</th>\n",
       "      <td>-1.081503</td>\n",
       "      <td>-0.825444</td>\n",
       "      <td>-1.870256</td>\n",
       "      <td>-1.404598</td>\n",
       "      <td>-0.296059</td>\n",
       "      <td>-0.811776</td>\n",
       "      <td>-0.235633</td>\n",
       "      <td>-1.449493</td>\n",
       "      <td>-1.036264</td>\n",
       "      <td>-0.616646</td>\n",
       "      <td>...</td>\n",
       "      <td>1.0</td>\n",
       "      <td>0.0</td>\n",
       "      <td>0.0</td>\n",
       "      <td>0.0</td>\n",
       "      <td>0.0</td>\n",
       "      <td>0.0</td>\n",
       "      <td>0.0</td>\n",
       "      <td>0.0</td>\n",
       "      <td>0.0</td>\n",
       "      <td>1.0</td>\n",
       "    </tr>\n",
       "    <tr>\n",
       "      <th>3</th>\n",
       "      <td>1.422035</td>\n",
       "      <td>-0.004138</td>\n",
       "      <td>-0.342522</td>\n",
       "      <td>-1.580961</td>\n",
       "      <td>-0.296059</td>\n",
       "      <td>2.004922</td>\n",
       "      <td>-0.235633</td>\n",
       "      <td>-0.751487</td>\n",
       "      <td>-1.475037</td>\n",
       "      <td>0.260121</td>\n",
       "      <td>...</td>\n",
       "      <td>1.0</td>\n",
       "      <td>0.0</td>\n",
       "      <td>0.0</td>\n",
       "      <td>0.0</td>\n",
       "      <td>0.0</td>\n",
       "      <td>0.0</td>\n",
       "      <td>0.0</td>\n",
       "      <td>0.0</td>\n",
       "      <td>0.0</td>\n",
       "      <td>0.0</td>\n",
       "    </tr>\n",
       "    <tr>\n",
       "      <th>4</th>\n",
       "      <td>-1.532654</td>\n",
       "      <td>0.695993</td>\n",
       "      <td>0.547065</td>\n",
       "      <td>-0.202933</td>\n",
       "      <td>3.764551</td>\n",
       "      <td>-0.811776</td>\n",
       "      <td>3.964092</td>\n",
       "      <td>0.033500</td>\n",
       "      <td>0.870985</td>\n",
       "      <td>-0.353616</td>\n",
       "      <td>...</td>\n",
       "      <td>0.0</td>\n",
       "      <td>0.0</td>\n",
       "      <td>0.0</td>\n",
       "      <td>0.0</td>\n",
       "      <td>0.0</td>\n",
       "      <td>0.0</td>\n",
       "      <td>1.0</td>\n",
       "      <td>0.0</td>\n",
       "      <td>0.0</td>\n",
       "      <td>0.0</td>\n",
       "    </tr>\n",
       "    <tr>\n",
       "      <th>...</th>\n",
       "      <td>...</td>\n",
       "      <td>...</td>\n",
       "      <td>...</td>\n",
       "      <td>...</td>\n",
       "      <td>...</td>\n",
       "      <td>...</td>\n",
       "      <td>...</td>\n",
       "      <td>...</td>\n",
       "      <td>...</td>\n",
       "      <td>...</td>\n",
       "      <td>...</td>\n",
       "      <td>...</td>\n",
       "      <td>...</td>\n",
       "      <td>...</td>\n",
       "      <td>...</td>\n",
       "      <td>...</td>\n",
       "      <td>...</td>\n",
       "      <td>...</td>\n",
       "      <td>...</td>\n",
       "      <td>...</td>\n",
       "      <td>...</td>\n",
       "    </tr>\n",
       "    <tr>\n",
       "      <th>27817</th>\n",
       "      <td>-2.028429</td>\n",
       "      <td>0.609823</td>\n",
       "      <td>-1.011511</td>\n",
       "      <td>-0.788819</td>\n",
       "      <td>-0.296059</td>\n",
       "      <td>-0.811776</td>\n",
       "      <td>-0.235633</td>\n",
       "      <td>-1.060346</td>\n",
       "      <td>1.069141</td>\n",
       "      <td>0.172445</td>\n",
       "      <td>...</td>\n",
       "      <td>0.0</td>\n",
       "      <td>0.0</td>\n",
       "      <td>0.0</td>\n",
       "      <td>0.0</td>\n",
       "      <td>0.0</td>\n",
       "      <td>0.0</td>\n",
       "      <td>0.0</td>\n",
       "      <td>0.0</td>\n",
       "      <td>1.0</td>\n",
       "      <td>0.0</td>\n",
       "    </tr>\n",
       "    <tr>\n",
       "      <th>27818</th>\n",
       "      <td>-0.776660</td>\n",
       "      <td>0.534424</td>\n",
       "      <td>0.226056</td>\n",
       "      <td>1.490458</td>\n",
       "      <td>-0.296059</td>\n",
       "      <td>0.127124</td>\n",
       "      <td>-0.235633</td>\n",
       "      <td>-2.146476</td>\n",
       "      <td>1.575145</td>\n",
       "      <td>0.084768</td>\n",
       "      <td>...</td>\n",
       "      <td>0.0</td>\n",
       "      <td>0.0</td>\n",
       "      <td>0.0</td>\n",
       "      <td>0.0</td>\n",
       "      <td>1.0</td>\n",
       "      <td>0.0</td>\n",
       "      <td>0.0</td>\n",
       "      <td>0.0</td>\n",
       "      <td>0.0</td>\n",
       "      <td>1.0</td>\n",
       "    </tr>\n",
       "    <tr>\n",
       "      <th>27819</th>\n",
       "      <td>1.117193</td>\n",
       "      <td>0.278607</td>\n",
       "      <td>0.895046</td>\n",
       "      <td>0.100472</td>\n",
       "      <td>-0.296059</td>\n",
       "      <td>0.127124</td>\n",
       "      <td>-0.235633</td>\n",
       "      <td>-1.430137</td>\n",
       "      <td>-0.937186</td>\n",
       "      <td>-1.493413</td>\n",
       "      <td>...</td>\n",
       "      <td>0.0</td>\n",
       "      <td>0.0</td>\n",
       "      <td>0.0</td>\n",
       "      <td>0.0</td>\n",
       "      <td>0.0</td>\n",
       "      <td>1.0</td>\n",
       "      <td>0.0</td>\n",
       "      <td>0.0</td>\n",
       "      <td>0.0</td>\n",
       "      <td>1.0</td>\n",
       "    </tr>\n",
       "    <tr>\n",
       "      <th>27820</th>\n",
       "      <td>-2.726282</td>\n",
       "      <td>0.184359</td>\n",
       "      <td>-0.958211</td>\n",
       "      <td>0.019764</td>\n",
       "      <td>-0.296059</td>\n",
       "      <td>0.127124</td>\n",
       "      <td>-0.235633</td>\n",
       "      <td>0.150261</td>\n",
       "      <td>1.610530</td>\n",
       "      <td>0.698505</td>\n",
       "      <td>...</td>\n",
       "      <td>0.0</td>\n",
       "      <td>1.0</td>\n",
       "      <td>0.0</td>\n",
       "      <td>0.0</td>\n",
       "      <td>0.0</td>\n",
       "      <td>0.0</td>\n",
       "      <td>0.0</td>\n",
       "      <td>0.0</td>\n",
       "      <td>0.0</td>\n",
       "      <td>1.0</td>\n",
       "    </tr>\n",
       "    <tr>\n",
       "      <th>27821</th>\n",
       "      <td>0.419341</td>\n",
       "      <td>-0.946621</td>\n",
       "      <td>1.105340</td>\n",
       "      <td>-0.963688</td>\n",
       "      <td>-0.296059</td>\n",
       "      <td>-0.811776</td>\n",
       "      <td>-0.235633</td>\n",
       "      <td>0.261786</td>\n",
       "      <td>-0.965494</td>\n",
       "      <td>-0.353616</td>\n",
       "      <td>...</td>\n",
       "      <td>0.0</td>\n",
       "      <td>0.0</td>\n",
       "      <td>0.0</td>\n",
       "      <td>0.0</td>\n",
       "      <td>0.0</td>\n",
       "      <td>0.0</td>\n",
       "      <td>0.0</td>\n",
       "      <td>1.0</td>\n",
       "      <td>0.0</td>\n",
       "      <td>0.0</td>\n",
       "    </tr>\n",
       "  </tbody>\n",
       "</table>\n",
       "<p>27822 rows × 64 columns</p>\n",
       "</div>"
      ],
      "text/plain": [
       "       loan_amnt  int_rate  annual_income       dti  delinq_2yrs  \\\n",
       "0       0.026331 -0.381131      -0.067296 -0.735013    -0.296059   \n",
       "1      -1.081503 -0.273419      -0.668223 -1.437479    -0.296059   \n",
       "2      -1.081503 -0.825444      -1.870256 -1.404598    -0.296059   \n",
       "3       1.422035 -0.004138      -0.342522 -1.580961    -0.296059   \n",
       "4      -1.532654  0.695993       0.547065 -0.202933     3.764551   \n",
       "...          ...       ...            ...       ...          ...   \n",
       "27817  -2.028429  0.609823      -1.011511 -0.788819    -0.296059   \n",
       "27818  -0.776660  0.534424       0.226056  1.490458    -0.296059   \n",
       "27819   1.117193  0.278607       0.895046  0.100472    -0.296059   \n",
       "27820  -2.726282  0.184359      -0.958211  0.019764    -0.296059   \n",
       "27821   0.419341 -0.946621       1.105340 -0.963688    -0.296059   \n",
       "\n",
       "       inq_last_6mths  pub_rec_derogatory  revol_balance  revol_util_rate  \\\n",
       "0            0.127124           -0.235633       0.247258        -0.133948   \n",
       "1           -0.811776           -0.235633      -0.420241         0.598521   \n",
       "2           -0.811776           -0.235633      -1.449493        -1.036264   \n",
       "3            2.004922           -0.235633      -0.751487        -1.475037   \n",
       "4           -0.811776            3.964092       0.033500         0.870985   \n",
       "...               ...                 ...            ...              ...   \n",
       "27817       -0.811776           -0.235633      -1.060346         1.069141   \n",
       "27818        0.127124           -0.235633      -2.146476         1.575145   \n",
       "27819        0.127124           -0.235633      -1.430137        -0.937186   \n",
       "27820        0.127124           -0.235633       0.150261         1.610530   \n",
       "27821       -0.811776           -0.235633       0.261786        -0.965494   \n",
       "\n",
       "       total_accounts  ...  home_improvement  leisure  major_purchase  \\\n",
       "0           -0.090585  ...               0.0      0.0             0.0   \n",
       "1           -0.967353  ...               0.0      0.0             0.0   \n",
       "2           -0.616646  ...               1.0      0.0             0.0   \n",
       "3            0.260121  ...               1.0      0.0             0.0   \n",
       "4           -0.353616  ...               0.0      0.0             0.0   \n",
       "...               ...  ...               ...      ...             ...   \n",
       "27817        0.172445  ...               0.0      0.0             0.0   \n",
       "27818        0.084768  ...               0.0      0.0             0.0   \n",
       "27819       -1.493413  ...               0.0      0.0             0.0   \n",
       "27820        0.698505  ...               0.0      1.0             0.0   \n",
       "27821       -0.353616  ...               0.0      0.0             0.0   \n",
       "\n",
       "       medical  other  small_business  Northeast  Southeast  Southwest  West  \n",
       "0          0.0    0.0             0.0        0.0        0.0        1.0   0.0  \n",
       "1          0.0    1.0             0.0        0.0        0.0        0.0   1.0  \n",
       "2          0.0    0.0             0.0        0.0        0.0        0.0   1.0  \n",
       "3          0.0    0.0             0.0        0.0        0.0        0.0   0.0  \n",
       "4          0.0    0.0             0.0        1.0        0.0        0.0   0.0  \n",
       "...        ...    ...             ...        ...        ...        ...   ...  \n",
       "27817      0.0    0.0             0.0        0.0        0.0        1.0   0.0  \n",
       "27818      0.0    1.0             0.0        0.0        0.0        0.0   1.0  \n",
       "27819      0.0    0.0             1.0        0.0        0.0        0.0   1.0  \n",
       "27820      0.0    0.0             0.0        0.0        0.0        0.0   1.0  \n",
       "27821      0.0    0.0             0.0        0.0        1.0        0.0   0.0  \n",
       "\n",
       "[27822 rows x 64 columns]"
      ]
     },
     "execution_count": 20,
     "metadata": {},
     "output_type": "execute_result"
    }
   ],
   "source": [
    "#merging the data and training set with encoded, scaled and discrete values\n",
    "# Training data first\n",
    "X_train_nrml = pd.concat([X_scaled_train,train_cat_encoded], axis = 1)\n",
    "X_train_nrml"
   ]
  },
  {
   "cell_type": "code",
   "execution_count": 21,
   "id": "6fe717b1",
   "metadata": {},
   "outputs": [],
   "source": [
    "#merging test data\n",
    "X_test_nrml = pd.concat([X_scaled_test,test_cat_encoded], axis = 1)\n"
   ]
  },
  {
   "cell_type": "markdown",
   "id": "a86463ec",
   "metadata": {},
   "source": [
    "# Model selection"
   ]
  },
  {
   "cell_type": "markdown",
   "id": "a9b409c1",
   "metadata": {},
   "source": [
    "In order to best predict loan defaults and what features influence that, I trained multiple ML models to see which one scores the best. I am focussing mainly on the Recall score here as this shows the amount of loans that are wrongfully identified as paid off, as they actually default. The higher the recall the lower this amount is, which is the goal of this project."
   ]
  },
  {
   "cell_type": "code",
   "execution_count": 22,
   "id": "cc61084c",
   "metadata": {},
   "outputs": [],
   "source": [
    "from sklearn.linear_model import LogisticRegression\n",
    "from sklearn.metrics import precision_score\n",
    "from sklearn.metrics import accuracy_score\n",
    "from sklearn.metrics import recall_score\n",
    "from sklearn.metrics import f1_score\n",
    "from sklearn.metrics import r2_score\n",
    "from sklearn.metrics import confusion_matrix\n",
    "from sklearn.metrics import plot_confusion_matrix"
   ]
  },
  {
   "cell_type": "markdown",
   "id": "731f97a8",
   "metadata": {},
   "source": [
    "## Logistic Regression - No weights"
   ]
  },
  {
   "cell_type": "code",
   "execution_count": 23,
   "id": "4fe67660",
   "metadata": {},
   "outputs": [
    {
     "name": "stdout",
     "output_type": "stream",
     "text": [
      "accuracy: 0.8574423480083857\n",
      "precision:  0.47692307692307695\n",
      "recall:  0.018267530936947555\n",
      "f1:  0.03518728717366629\n"
     ]
    },
    {
     "data": {
      "image/png": "[encoded data removed]",
      "text/plain": [
       "<Figure size 432x288 with 2 Axes>"
      ]
     },
     "metadata": {
      "needs_background": "light"
     },
     "output_type": "display_data"
    }
   ],
   "source": [
    "LR = LogisticRegression(random_state=42, solver='lbfgs', max_iter=4000).fit(X_train_nrml, y_train)\n",
    "pred = LR.predict(X_test_nrml)\n",
    "\n",
    "print('accuracy:', accuracy_score(y_test, pred))\n",
    "print(\"precision: \",precision_score(y_test,pred))\n",
    "print(\"recall: \",recall_score(y_test,pred))\n",
    "print(\"f1: \",f1_score(y_test,pred))\n",
    "\n",
    "plot_confusion_matrix(LR, X_test_nrml, y_test,cmap=plt.cm.Blues)  \n",
    "plt.show()"
   ]
  },
  {
   "cell_type": "markdown",
   "id": "af92b3c0",
   "metadata": {},
   "source": [
    "This model shows a very low Recall score, this can be explained due to the heavy imbalance in the dataset. "
   ]
  },
  {
   "cell_type": "markdown",
   "id": "1ef80424",
   "metadata": {},
   "source": [
    "## Logistic Regression - Balanced Weights"
   ]
  },
  {
   "cell_type": "markdown",
   "id": "2c33317f",
   "metadata": {},
   "source": [
    "In an attempt to try and improve the model above, I add the 'balanced class_weights' to deal with the imbalance. "
   ]
  },
  {
   "cell_type": "code",
   "execution_count": 24,
   "id": "92cd4cf6",
   "metadata": {},
   "outputs": [
    {
     "name": "stdout",
     "output_type": "stream",
     "text": [
      "accuracy: 0.6482180293501049\n",
      "precision:  0.23683101559207753\n",
      "recall:  0.6623453152622275\n",
      "f1:  0.3489057892286202\n"
     ]
    }
   ],
   "source": [
    "LR_balanced = LogisticRegression(random_state=42, solver='lbfgs', max_iter=4000,class_weight='balanced').fit(X_train_nrml, y_train)\n",
    "pred_balanced = LR_balanced.predict(X_test_nrml)\n",
    "\n",
    "print('accuracy:', accuracy_score(y_test, pred_balanced))\n",
    "print(\"precision: \",precision_score(y_test,pred_balanced))\n",
    "print(\"recall: \",recall_score(y_test,pred_balanced))\n",
    "print(\"f1: \",f1_score(y_test,pred_balanced))"
   ]
  },
  {
   "cell_type": "code",
   "execution_count": 25,
   "id": "59f9f90a",
   "metadata": {},
   "outputs": [
    {
     "data": {
      "image/png": "[encoded data removed]",
      "text/plain": [
       "<Figure size 432x288 with 2 Axes>"
      ]
     },
     "metadata": {
      "needs_background": "light"
     },
     "output_type": "display_data"
    }
   ],
   "source": [
    "plot_confusion_matrix(LR_balanced, X_test_nrml, y_test,cmap=plt.cm.Blues)  \n",
    "plt.show()"
   ]
  },
  {
   "cell_type": "markdown",
   "id": "5d832b0a",
   "metadata": {},
   "source": [
    "The recall has increased a lot by adding the balanced weights, giving us a way more accurate model for the research question we are trying to answer.  "
   ]
  },
  {
   "cell_type": "markdown",
   "id": "1281422b",
   "metadata": {},
   "source": [
    "## Logistic Regression - Manual Weights"
   ]
  },
  {
   "cell_type": "markdown",
   "id": "9f940a9c",
   "metadata": {},
   "source": [
    "In an attempt to improve this score as well, I add manual weights to find the sweet spot between the lowest amount of defaults, while not losing all the 'good' loans. "
   ]
  },
  {
   "cell_type": "code",
   "execution_count": 26,
   "id": "8425dc19",
   "metadata": {},
   "outputs": [
    {
     "name": "stdout",
     "output_type": "stream",
     "text": [
      "accuracy: 0.6149266247379455\n",
      "precision:  0.22673211251651879\n",
      "recall:  0.7077195050088392\n",
      "f1:  0.34343723191306835\n"
     ]
    }
   ],
   "source": [
    "weight = {1: 0.87,\n",
    "           0: 0.13\n",
    "          }\n",
    "LR_manual = LogisticRegression(random_state=1, solver='lbfgs', max_iter=4000,class_weight=weight).fit(X_train_nrml, y_train)\n",
    "pred_manual = LR_manual.predict(X_test_nrml)\n",
    "\n",
    "print('accuracy:', accuracy_score(y_test, pred_manual))\n",
    "print(\"precision: \",precision_score(y_test,pred_manual))\n",
    "print(\"recall: \",recall_score(y_test,pred_manual))\n",
    "print(\"f1: \",f1_score(y_test,pred_manual))"
   ]
  },
  {
   "cell_type": "code",
   "execution_count": 27,
   "id": "649f48de",
   "metadata": {},
   "outputs": [
    {
     "data": {
      "image/png": "[encoded data removed]",
      "text/plain": [
       "<Figure size 432x288 with 2 Axes>"
      ]
     },
     "metadata": {
      "needs_background": "light"
     },
     "output_type": "display_data"
    }
   ],
   "source": [
    "plot_confusion_matrix(LR_manual, X_test_nrml, y_test,cmap=plt.cm.Blues)  \n",
    "plt.show()"
   ]
  },
  {
   "cell_type": "markdown",
   "id": "b0fc1de4",
   "metadata": {},
   "source": [
    "## Trying different models "
   ]
  },
  {
   "cell_type": "markdown",
   "id": "e2b8b53a",
   "metadata": {},
   "source": [
    "As there are more models than only Logistic Regression, I am trying them out below to get a better score. "
   ]
  },
  {
   "cell_type": "markdown",
   "id": "77018dee",
   "metadata": {},
   "source": [
    "## KNNeighbors"
   ]
  },
  {
   "cell_type": "code",
   "execution_count": 28,
   "id": "680cb50b",
   "metadata": {},
   "outputs": [
    {
     "name": "stdout",
     "output_type": "stream",
     "text": [
      "accuracy: 0.8568553459119497\n",
      "precision:  0.3333333333333333\n",
      "recall:  0.0058927519151443725\n",
      "f1:  0.011580775911986103\n"
     ]
    }
   ],
   "source": [
    "from sklearn import neighbors\n",
    "KNN = neighbors.KNeighborsClassifier(n_neighbors=25, weights='distance').fit(X_train_nrml, y_train)\n",
    "predictions_KNN = KNN.predict(X_test_nrml)\n",
    "\n",
    "print('accuracy:', accuracy_score(y_test, predictions_KNN))\n",
    "print(\"precision: \",precision_score(y_test,predictions_KNN))\n",
    "print(\"recall: \",recall_score(y_test,predictions_KNN))\n",
    "print(\"f1: \",f1_score(y_test,predictions_KNN))"
   ]
  },
  {
   "cell_type": "code",
   "execution_count": 29,
   "id": "69e3564e",
   "metadata": {},
   "outputs": [
    {
     "data": {
      "image/png": "[encoded data removed]",
      "text/plain": [
       "<Figure size 432x288 with 2 Axes>"
      ]
     },
     "metadata": {
      "needs_background": "light"
     },
     "output_type": "display_data"
    }
   ],
   "source": [
    "plot_confusion_matrix(KNN, X_test_nrml, y_test,cmap=plt.cm.Blues)  \n",
    "plt.show()"
   ]
  },
  {
   "cell_type": "markdown",
   "id": "57ae9102",
   "metadata": {},
   "source": [
    "## SMOTE"
   ]
  },
  {
   "cell_type": "code",
   "execution_count": 30,
   "id": "06ddef73",
   "metadata": {},
   "outputs": [
    {
     "name": "stdout",
     "output_type": "stream",
     "text": [
      "accuracy: 0.6420125786163522\n",
      "precision:  0.23230641132389676\n",
      "recall:  0.657631113730112\n",
      "f1:  0.34333179510844486\n"
     ]
    }
   ],
   "source": [
    "from imblearn.over_sampling import SMOTE\n",
    "\n",
    "sm = SMOTE(random_state=100,k_neighbors=3)\n",
    "X_train_SMOTE,y_train_SMOTE = sm.fit_resample(X_train_nrml,y_train)\n",
    "\n",
    "smote = LogisticRegression(random_state=42,max_iter=1000).fit(X_train_SMOTE, y_train_SMOTE)\n",
    "pred_smote = smote.predict(X_test_nrml)\n",
    "\n",
    "print('accuracy:', accuracy_score(y_test, pred_smote))\n",
    "print(\"precision: \",precision_score(y_test,pred_smote))\n",
    "print(\"recall: \",recall_score(y_test,pred_smote))\n",
    "print(\"f1: \",f1_score(y_test,pred_smote))"
   ]
  },
  {
   "cell_type": "code",
   "execution_count": 31,
   "id": "10502d5d",
   "metadata": {},
   "outputs": [
    {
     "data": {
      "image/png": "[encoded data removed]",
      "text/plain": [
       "<Figure size 432x288 with 2 Axes>"
      ]
     },
     "metadata": {
      "needs_background": "light"
     },
     "output_type": "display_data"
    }
   ],
   "source": [
    "plot_confusion_matrix(smote, X_test_nrml, y_test)  \n",
    "plt.show()"
   ]
  },
  {
   "cell_type": "markdown",
   "id": "8cfc5baf",
   "metadata": {},
   "source": [
    "## Random Forest"
   ]
  },
  {
   "cell_type": "code",
   "execution_count": 32,
   "id": "fdf0510b",
   "metadata": {},
   "outputs": [
    {
     "name": "stdout",
     "output_type": "stream",
     "text": [
      "accuracy: 0.849895178197065\n",
      "precision:  0.3485342019543974\n",
      "recall:  0.06305244549204478\n",
      "f1:  0.10678642714570859\n"
     ]
    }
   ],
   "source": [
    "from sklearn.ensemble import RandomForestClassifier\n",
    "smt2 = SMOTE()\n",
    "X_train_smt, y_train_smt = smt2.fit_resample(X_train_nrml, y_train)\n",
    "smt_Rf = RandomForestClassifier(random_state=42).fit(X_train_smt, y_train_smt)\n",
    "\n",
    "pred_smt_RF = smt_Rf.predict(X_test_nrml)\n",
    "\n",
    "print('accuracy:', accuracy_score(y_test, pred_smt_RF))\n",
    "print(\"precision: \",precision_score(y_test,pred_smt_RF))\n",
    "print(\"recall: \",recall_score(y_test,pred_smt_RF))\n",
    "print(\"f1: \",f1_score(y_test,pred_smt_RF))"
   ]
  },
  {
   "cell_type": "code",
   "execution_count": 33,
   "id": "fe4f49cc",
   "metadata": {},
   "outputs": [
    {
     "data": {
      "image/png": "[encoded data removed]",
      "text/plain": [
       "<Figure size 432x288 with 2 Axes>"
      ]
     },
     "metadata": {
      "needs_background": "light"
     },
     "output_type": "display_data"
    }
   ],
   "source": [
    "plot_confusion_matrix(smt_Rf, X_test_nrml, y_test)  \n",
    "plt.show()"
   ]
  },
  {
   "cell_type": "markdown",
   "id": "64847c99",
   "metadata": {},
   "source": [
    "## Undersampling"
   ]
  },
  {
   "cell_type": "code",
   "execution_count": 40,
   "id": "80ca6a28",
   "metadata": {},
   "outputs": [],
   "source": [
    "X_train_nrml = X_train_nrml.reset_index()\n",
    "y_train = y_train.reset_index()\n",
    "train = pd.concat([X_train_nrml, y_train],axis=1)\n",
    "fully_paid = train[train['loan_status']==0]\n",
    "charged_off = train[train['loan_status']==1]"
   ]
  },
  {
   "cell_type": "code",
   "execution_count": 41,
   "id": "79c9c355",
   "metadata": {},
   "outputs": [
    {
     "data": {
      "text/plain": [
       "(3965, 67)"
      ]
     },
     "metadata": {},
     "output_type": "display_data"
    },
    {
     "data": {
      "text/plain": [
       "(3965, 67)"
      ]
     },
     "metadata": {},
     "output_type": "display_data"
    }
   ],
   "source": [
    "from sklearn.utils import resample\n",
    "fullypaid_undersampled = resample(fully_paid, \n",
    "                                    replace=False,\n",
    "                                    n_samples = len(charged_off),\n",
    "                                    random_state=42)\n",
    "\n",
    "\n",
    "display(charged_off.shape)\n",
    "display(fullypaid_undersampled.shape)"
   ]
  },
  {
   "cell_type": "code",
   "execution_count": 42,
   "id": "373b6d63",
   "metadata": {},
   "outputs": [],
   "source": [
    "train_undersampled = pd.concat([fullypaid_undersampled,charged_off])"
   ]
  },
  {
   "cell_type": "code",
   "execution_count": 43,
   "id": "fa5e3eb5",
   "metadata": {},
   "outputs": [],
   "source": [
    "y_train_under = train_undersampled['loan_status'].copy()\n",
    "X_train_under = train_undersampled.drop('loan_status',axis = 1).copy()"
   ]
  },
  {
   "cell_type": "code",
   "execution_count": 44,
   "id": "73263abf",
   "metadata": {},
   "outputs": [],
   "source": [
    "X_train_under = X_train_under.drop(['index'],axis=1)"
   ]
  },
  {
   "cell_type": "markdown",
   "id": "c6fdfa52",
   "metadata": {},
   "source": [
    "## Undersampling - Logistic Regression"
   ]
  },
  {
   "cell_type": "code",
   "execution_count": 45,
   "id": "952c4d5a",
   "metadata": {},
   "outputs": [
    {
     "name": "stdout",
     "output_type": "stream",
     "text": [
      "accuracy: 0.6520754716981132\n",
      "precision:  0.23769790329482243\n",
      "recall:  0.6546847377725398\n",
      "f1:  0.34876785433997803\n"
     ]
    }
   ],
   "source": [
    "LR_under = LogisticRegression(max_iter=1000).fit(X_train_under, y_train_under)\n",
    "pred_under = LR_under.predict(X_test_nrml)\n",
    "\n",
    "print('accuracy:', accuracy_score(y_test, pred_under))\n",
    "print(\"precision: \",precision_score(y_test,pred_under))\n",
    "print(\"recall: \",recall_score(y_test,pred_under))\n",
    "print(\"f1: \",f1_score(y_test,pred_under))"
   ]
  },
  {
   "cell_type": "code",
   "execution_count": 47,
   "id": "7d1872b8",
   "metadata": {},
   "outputs": [
    {
     "data": {
      "image/png": "[encoded data removed]",
      "text/plain": [
       "<Figure size 432x288 with 2 Axes>"
      ]
     },
     "metadata": {
      "needs_background": "light"
     },
     "output_type": "display_data"
    }
   ],
   "source": [
    "plot_confusion_matrix(LR_under, X_test_nrml, y_test)  \n",
    "plt.show()"
   ]
  },
  {
   "cell_type": "markdown",
   "id": "dc58be27",
   "metadata": {},
   "source": [
    "Using this combination of undersampling and Logistic Regression essentially gives me the same Recall score as using 'balanced class_weights' in the logistic regression. This is an interesting find as using class_weights is a much faster and easier way to get the same results. "
   ]
  },
  {
   "cell_type": "markdown",
   "id": "000337cc",
   "metadata": {},
   "source": [
    "## Undersampling - Random Forest"
   ]
  },
  {
   "cell_type": "code",
   "execution_count": 48,
   "id": "faa735c8",
   "metadata": {},
   "outputs": [],
   "source": [
    "RF_under = RandomForestClassifier(random_state=42).fit(X_train_under, y_train_under)\n",
    "\n",
    "pred_RF_under = RF_under.predict(X_test_nrml)"
   ]
  },
  {
   "cell_type": "code",
   "execution_count": 49,
   "id": "cb54bfd3",
   "metadata": {},
   "outputs": [
    {
     "name": "stdout",
     "output_type": "stream",
     "text": [
      "accuracy: 0.6446960167714885\n",
      "precision:  0.23364093959731544\n",
      "recall:  0.6564525633470831\n",
      "f1:  0.34462490332559936\n"
     ]
    }
   ],
   "source": [
    "print('accuracy:', accuracy_score(y_test, pred_RF_under))\n",
    "print(\"precision: \",precision_score(y_test,pred_RF_under))\n",
    "print(\"recall: \",recall_score(y_test,pred_RF_under))\n",
    "print(\"f1: \",f1_score(y_test,pred_RF_under))"
   ]
  },
  {
   "cell_type": "code",
   "execution_count": 50,
   "id": "bb62135b",
   "metadata": {},
   "outputs": [
    {
     "data": {
      "image/png": "[encoded data removed]",
      "text/plain": [
       "<Figure size 432x288 with 2 Axes>"
      ]
     },
     "metadata": {
      "needs_background": "light"
     },
     "output_type": "display_data"
    }
   ],
   "source": [
    "plot_confusion_matrix(RF_under, X_test_nrml, y_test)  \n",
    "plt.show()"
   ]
  },
  {
   "cell_type": "markdown",
   "id": "e8eef9ea",
   "metadata": {},
   "source": [
    "## Identifying the best model"
   ]
  },
  {
   "cell_type": "markdown",
   "id": "92fb052b",
   "metadata": {},
   "source": [
    "As we try to minimize the amount of defaults, we need to have the lowest number possible in the matrix, where the model falsely predicts someone is going to pay off their loan when they actually don't. The best matrix to indicate the lowest amount of false fully paid loans is recall. To compare our models I am going to reprint the recall of all the models I tried out. "
   ]
  },
  {
   "cell_type": "code",
   "execution_count": 51,
   "id": "2c8fa405",
   "metadata": {},
   "outputs": [
    {
     "name": "stdout",
     "output_type": "stream",
     "text": [
      "LR-no weights-recall:  0.018267530936947555\n",
      "LR-balanced weights-recall:  0.6623453152622275\n",
      "LR-manual weights-recall:  0.7077195050088392\n",
      "LR-KNN-recall:  0.0058927519151443725\n",
      "LR-SMOTE-recall:  0.657631113730112\n",
      "LR-Random Forest-recall:  0.06305244549204478\n",
      "LR-Undersample LR-recall:  0.6546847377725398\n",
      "LR-Undersample RF-recall:  0.6564525633470831\n"
     ]
    }
   ],
   "source": [
    "print(\"LR-no weights-recall: \",recall_score(y_test,pred))\n",
    "print(\"LR-balanced weights-recall: \",recall_score(y_test,pred_balanced))\n",
    "print(\"LR-manual weights-recall: \",recall_score(y_test,pred_manual))\n",
    "print(\"LR-KNN-recall: \",recall_score(y_test,predictions_KNN))\n",
    "print(\"LR-SMOTE-recall: \",recall_score(y_test,pred_smote))\n",
    "print(\"LR-Random Forest-recall: \",recall_score(y_test,pred_smt_RF))\n",
    "print(\"LR-Undersample LR-recall: \",recall_score(y_test,pred_under))\n",
    "print(\"LR-Undersample RF-recall: \",recall_score(y_test,pred_RF_under))"
   ]
  },
  {
   "cell_type": "markdown",
   "id": "bee5ce9f",
   "metadata": {},
   "source": [
    "Above shows us that the Logistic Regression model with manual weights gives us the best Recall score. This is therefore, given my research question, the best model to go with. However, it should be noted that the higher the recall, the lower the accuracy and precision is in this case. This means that the stricter we get with approving new loans, the higher the number of good loans we are missing too, which is a loss of money as well. If I had further financial information I could calculate what the loss and gain of money of every model is to make a better informed decision. However, with the information I have now, it's clear that the lowest possible number of defaults (while not losing the majority of loans) is the outcome in the project. As loss of reputation and trust of investors can have disastrous concequences for the lending club."
   ]
  },
  {
   "cell_type": "markdown",
   "id": "c2b9ec6f",
   "metadata": {},
   "source": [
    "## Feature importance "
   ]
  },
  {
   "cell_type": "markdown",
   "id": "8da81c7c",
   "metadata": {},
   "source": [
    "Luckily, the ML model is not the final step we can take to identify defaulters. To get a better and more detailed insight in the features of members that default, I made feature importance model. "
   ]
  },
  {
   "cell_type": "code",
   "execution_count": 35,
   "id": "e774b029",
   "metadata": {},
   "outputs": [
    {
     "data": {
      "text/html": [
       "<div>\n",
       "<style scoped>\n",
       "    .dataframe tbody tr th:only-of-type {\n",
       "        vertical-align: middle;\n",
       "    }\n",
       "\n",
       "    .dataframe tbody tr th {\n",
       "        vertical-align: top;\n",
       "    }\n",
       "\n",
       "    .dataframe thead th {\n",
       "        text-align: right;\n",
       "    }\n",
       "</style>\n",
       "<table border=\"1\" class=\"dataframe\">\n",
       "  <thead>\n",
       "    <tr style=\"text-align: right;\">\n",
       "      <th></th>\n",
       "      <th>feature</th>\n",
       "      <th>feature_importance</th>\n",
       "    </tr>\n",
       "  </thead>\n",
       "  <tbody>\n",
       "    <tr>\n",
       "      <th>59</th>\n",
       "      <td>small_business</td>\n",
       "      <td>0.798443</td>\n",
       "    </tr>\n",
       "    <tr>\n",
       "      <th>40</th>\n",
       "      <td>F5</td>\n",
       "      <td>0.634429</td>\n",
       "    </tr>\n",
       "    <tr>\n",
       "      <th>1</th>\n",
       "      <td>int_rate</td>\n",
       "      <td>0.477692</td>\n",
       "    </tr>\n",
       "    <tr>\n",
       "      <th>11</th>\n",
       "      <td>60 months</td>\n",
       "      <td>0.467109</td>\n",
       "    </tr>\n",
       "    <tr>\n",
       "      <th>46</th>\n",
       "      <td>OTHER</td>\n",
       "      <td>0.409019</td>\n",
       "    </tr>\n",
       "    <tr>\n",
       "      <th>...</th>\n",
       "      <td>...</td>\n",
       "      <td>...</td>\n",
       "    </tr>\n",
       "    <tr>\n",
       "      <th>47</th>\n",
       "      <td>OWN</td>\n",
       "      <td>0.020719</td>\n",
       "    </tr>\n",
       "    <tr>\n",
       "      <th>9</th>\n",
       "      <td>total_accounts</td>\n",
       "      <td>0.019888</td>\n",
       "    </tr>\n",
       "    <tr>\n",
       "      <th>7</th>\n",
       "      <td>revol_balance</td>\n",
       "      <td>0.018226</td>\n",
       "    </tr>\n",
       "    <tr>\n",
       "      <th>37</th>\n",
       "      <td>F2</td>\n",
       "      <td>0.009735</td>\n",
       "    </tr>\n",
       "    <tr>\n",
       "      <th>4</th>\n",
       "      <td>delinq_2yrs</td>\n",
       "      <td>0.005989</td>\n",
       "    </tr>\n",
       "  </tbody>\n",
       "</table>\n",
       "<p>64 rows × 2 columns</p>\n",
       "</div>"
      ],
      "text/plain": [
       "           feature  feature_importance\n",
       "59  small_business            0.798443\n",
       "40              F5            0.634429\n",
       "1         int_rate            0.477692\n",
       "11       60 months            0.467109\n",
       "46           OTHER            0.409019\n",
       "..             ...                 ...\n",
       "47             OWN            0.020719\n",
       "9   total_accounts            0.019888\n",
       "7    revol_balance            0.018226\n",
       "37              F2            0.009735\n",
       "4      delinq_2yrs            0.005989\n",
       "\n",
       "[64 rows x 2 columns]"
      ]
     },
     "execution_count": 35,
     "metadata": {},
     "output_type": "execute_result"
    }
   ],
   "source": [
    "feature_imp=pd.DataFrame({'feature':list(X_train_nrml.columns),'feature_importance':[abs(i) for i in LR_manual.coef_[0]]})\n",
    "feature_imp.sort_values('feature_importance',ascending=False)"
   ]
  },
  {
   "cell_type": "code",
   "execution_count": 36,
   "id": "317a538a",
   "metadata": {},
   "outputs": [
    {
     "data": {
      "image/png": "[encoded data removed]",
      "text/plain": [
       "<Figure size 1440x1440 with 1 Axes>"
      ]
     },
     "metadata": {
      "needs_background": "light"
     },
     "output_type": "display_data"
    }
   ],
   "source": [
    "plt.figure(figsize=(20,20))\n",
    "sns.barplot(x=\"feature_importance\", y=\"feature\", data=feature_imp,color = 'skyblue',order=feature_imp.sort_values('feature_importance',ascending=False).feature)\n",
    "plt.show()"
   ]
  },
  {
   "cell_type": "code",
   "execution_count": 37,
   "id": "8232aaf2",
   "metadata": {},
   "outputs": [],
   "source": [
    "#as not all features have that big an impact on the predictions in the model, I am slicing the features to the top 12 that have the biggest impact on the predictions, as after these 12 it evens out a bit more\n",
    "feature_importance_top12 = feature_imp.sort_values('feature_importance',ascending=False).reset_index().iloc[0:12,:]"
   ]
  },
  {
   "cell_type": "code",
   "execution_count": 39,
   "id": "50e5e453",
   "metadata": {},
   "outputs": [
    {
     "data": {
      "image/png": "[encoded data removed]",
      "text/plain": [
       "<Figure size 432x432 with 1 Axes>"
      ]
     },
     "metadata": {
      "needs_background": "light"
     },
     "output_type": "display_data"
    }
   ],
   "source": [
    "plt.figure(figsize=(6,6))\n",
    "sns.barplot(x=\"feature_importance\", y=\"feature\", data=feature_importance_top12,color = 'skyblue',order=feature_importance_top12.sort_values('feature_importance',ascending=False).feature)\n",
    "plt.show()"
   ]
  },
  {
   "cell_type": "markdown",
   "id": "9bfcd3ac",
   "metadata": {},
   "source": [
    "Besides this model telling us what features have a heavier impact on whether someone is going to default or not, we can also use this information to identify the probability that someone is going to default or not. As the model I chose still predicts a lot of false defaulters, who would actually pay for their loan, this information can be used as a cross check. For example if a member only has a few or none of the above features, the probability that that member is going to default is a lot smaller than for someone who has the majority of the features above. So I recommend LC to cross check the above features with the members. If they only match a few, they could consider giving them the loan as the probabilty they are going to default is a lot smaller than for others. This way they can minimize the amount of defaults while not missing out on a big amount of good loans as well. A situation where the LC can maintain trust and build a good reputation while optimizing their revenue, will be created here."
   ]
  },
  {
   "cell_type": "markdown",
   "id": "0b19b29c",
   "metadata": {},
   "source": [
    "## In summarry & answering the research question"
   ]
  },
  {
   "cell_type": "markdown",
   "id": "3a0c12db",
   "metadata": {},
   "source": [
    "If an applicant applies for a loan and has the following features:\n",
    "\n",
    "- Small Business\n",
    "- Interest rate higher than 12%\n",
    "- Asks for a term of 60 months\n",
    "- Does not own a house, mortgage or rents a house\n",
    "- An income lower than 70.000 dollars\n",
    "- A purpose that is not classified under the known purpose values\n",
    "- Get’s classified for either a F5, D1, G4, B4, A5, or B3 grade\n",
    "\n",
    "The change of a default is very high! \n",
    "\n",
    "\n",
    "If they have none or little of these features, the change of a default is smaller.\n"
   ]
  }
 ],
 "metadata": {
  "kernelspec": {
   "display_name": "Python 3 (ipykernel)",
   "language": "python",
   "name": "python3"
  },
  "language_info": {
   "codemirror_mode": {
    "name": "ipython",
    "version": 3
   },
   "file_extension": ".py",
   "mimetype": "text/x-python",
   "name": "python",
   "nbconvert_exporter": "python",
   "pygments_lexer": "ipython3",
   "version": "3.8.2"
  }
 },
 "nbformat": 4,
 "nbformat_minor": 5
}
